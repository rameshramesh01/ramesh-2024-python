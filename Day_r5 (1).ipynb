{
  "nbformat": 4,
  "nbformat_minor": 0,
  "metadata": {
    "colab": {
      "provenance": []
    },
    "kernelspec": {
      "name": "python3",
      "display_name": "Python 3"
    },
    "language_info": {
      "name": "python"
    }
  },
  "cells": [
    {
      "cell_type": "code",
      "source": [],
      "metadata": {
        "id": "6wFMrELeVxNm"
      },
      "execution_count": null,
      "outputs": []
    },
    {
      "cell_type": "markdown",
      "source": [
        "# **File Handling and error handling in python**"
      ],
      "metadata": {
        "id": "Y2FJAcXAjZHP"
      }
    },
    {
      "cell_type": "markdown",
      "source": [
        "**File Operations**"
      ],
      "metadata": {
        "id": "xkiXtCZpkCRG"
      }
    },
    {
      "cell_type": "code",
      "source": [
        "#Opening a file\n",
        "file=open(\"/content/drive/MyDrive/file/ggg.txt\",\"r\")"
      ],
      "metadata": {
        "id": "LcGe9qHMnx7f"
      },
      "execution_count": null,
      "outputs": []
    },
    {
      "cell_type": "code",
      "source": [
        "file=open(\"/content/drive/MyDrive/file/ggg.txt\",\"w\")\n",
        "print(file.write(\"I am not good!\\n\"))\n",
        "file.close()"
      ],
      "metadata": {
        "colab": {
          "base_uri": "https://localhost:8080/"
        },
        "id": "kii1MJmbujaN",
        "outputId": "8651b8e6-dc16-4c08-8344-de16a0c253b8"
      },
      "execution_count": null,
      "outputs": [
        {
          "output_type": "stream",
          "name": "stdout",
          "text": [
            "15\n"
          ]
        }
      ]
    },
    {
      "cell_type": "code",
      "source": [
        "#Reading a file\n",
        "file=open(\"/content/drive/MyDrive/file/ggg.txt\",\"r\")\n",
        "content=file.read()\n",
        "print(content)\n",
        "file.close()\n",
        "\n"
      ],
      "metadata": {
        "colab": {
          "base_uri": "https://localhost:8080/"
        },
        "id": "3bA5SEOAvFdU",
        "outputId": "3491a823-e55e-40b1-8c30-4da1f5a77709"
      },
      "execution_count": null,
      "outputs": [
        {
          "output_type": "stream",
          "name": "stdout",
          "text": [
            "I am not good!\n",
            "venketes\n",
            "i am from dharwad\n",
            "\n"
          ]
        }
      ]
    },
    {
      "cell_type": "code",
      "source": [
        "#Writing to a file\n",
        "file=open(\"/content/drive/MyDrive/file/ggg.txt\",\"w\")\n",
        "file.write(\"I am from dharwad\")\n",
        "file.close()\n"
      ],
      "metadata": {
        "id": "pXqjuQcQyNmV"
      },
      "execution_count": null,
      "outputs": []
    },
    {
      "cell_type": "code",
      "source": [
        "#File handling modes\n",
        "with open(\"/content/drive/MyDrive/file/ggg.txt\",\"rb\") as file:\n",
        "  data=file.read()\n"
      ],
      "metadata": {
        "id": "TAGU5Vws0Bhb"
      },
      "execution_count": null,
      "outputs": []
    },
    {
      "cell_type": "markdown",
      "source": [
        "**Error Handling**"
      ],
      "metadata": {
        "id": "HT65USo679fm"
      }
    },
    {
      "cell_type": "code",
      "source": [
        "#Try\n",
        "try:\n",
        "  num=int(input(\"Enter a number:\"))\n",
        "  print(10/num)\n",
        "except ZeroDivisionError:\n",
        "  print(\"You cannot divide by zero.\")\n",
        "except ValueError:\n",
        "  print(\"Invalid input! Please enter a number.\")\n"
      ],
      "metadata": {
        "id": "XYDIgD4T1OUO",
        "colab": {
          "base_uri": "https://localhost:8080/"
        },
        "outputId": "822d3eb0-063e-4ed5-8ed5-ca4d02e5b161"
      },
      "execution_count": null,
      "outputs": [
        {
          "output_type": "stream",
          "name": "stdout",
          "text": [
            "Enter a number:66\n",
            "0.15151515151515152\n"
          ]
        }
      ]
    },
    {
      "cell_type": "code",
      "source": [
        "try:\n",
        "  file=open(\"/content/drive/MyDrive/file/ggg.txt\",\"r\")\n",
        "except FileNotFoundError:\n",
        "  print(\"File not found.\")\n",
        "finally:\n",
        "  print(\"Execution complete.\")"
      ],
      "metadata": {
        "colab": {
          "base_uri": "https://localhost:8080/"
        },
        "id": "raP05rPb9GOH",
        "outputId": "961c7ae1-9397-4c41-da66-46a9f2042ae5"
      },
      "execution_count": null,
      "outputs": [
        {
          "output_type": "stream",
          "name": "stdout",
          "text": [
            "Execution complete.\n"
          ]
        }
      ]
    },
    {
      "cell_type": "code",
      "source": [
        "try:\n",
        "  num=int(input(\"Enter a number:\"))\n",
        "  print(10/num)\n",
        "except ZeroDivisionError:\n",
        "  print(\"you can not divide by zero\")\n",
        "finally:\n",
        "  print(\"Execution complete\")"
      ],
      "metadata": {
        "colab": {
          "base_uri": "https://localhost:8080/"
        },
        "id": "5laEamV4-POJ",
        "outputId": "a58f83dc-3941-4261-e415-e6f76113760c"
      },
      "execution_count": null,
      "outputs": [
        {
          "output_type": "stream",
          "name": "stdout",
          "text": [
            "Enter a number:0\n",
            "you can not divide by zero\n",
            "Execution complete\n"
          ]
        }
      ]
    },
    {
      "cell_type": "code",
      "source": [
        "#Raising Exceptions\n",
        "def check_age(age):\n",
        "  if age<18:\n",
        "    raise ValueError(\"Age must be 18 or older.\")\n",
        "  return True\n",
        "\n",
        "try:\n",
        "  check_age(16)\n",
        "except ValueError as e:\n",
        "  print(e)"
      ],
      "metadata": {
        "colab": {
          "base_uri": "https://localhost:8080/"
        },
        "id": "OYOxKQZ3_QET",
        "outputId": "40015915-ceea-496a-ad51-364451b85bcc"
      },
      "execution_count": null,
      "outputs": [
        {
          "output_type": "stream",
          "name": "stdout",
          "text": [
            "Age must be 18 or older.\n"
          ]
        }
      ]
    },
    {
      "cell_type": "markdown",
      "source": [
        "# **Hands on practise**"
      ],
      "metadata": {
        "id": "cKEIobEcAXhr"
      }
    },
    {
      "cell_type": "code",
      "source": [
        "#Reading and writing to a file\n",
        "with open(\"/content/drive/MyDrive/file/ggg.txt\",\"w\") as file:\n",
        "  file.write(\"Python is awesome!\\n\")\n"
      ],
      "metadata": {
        "id": "b9V3GKczATIW"
      },
      "execution_count": null,
      "outputs": []
    },
    {
      "cell_type": "code",
      "source": [
        "with open(\"/content/drive/MyDrive/file/ggg.txt\",\"r\") as file:\n",
        "  print(file.read())c"
      ],
      "metadata": {
        "colab": {
          "base_uri": "https://localhost:8080/"
        },
        "id": "gB72MvUNBwd1",
        "outputId": "2d005585-cdca-4f98-e329-ad0fd1515bb6"
      },
      "execution_count": null,
      "outputs": [
        {
          "output_type": "stream",
          "name": "stdout",
          "text": [
            "Python is awesome!\n",
            "\n"
          ]
        }
      ]
    },
    {
      "cell_type": "code",
      "source": [
        "#Appending dat to a file\n",
        "with open(\"/content/drive/MyDrive/file/ggg.txt\",\"a\") as file:\n",
        "  file.write(\"Let's learn file handling.\\n\")"
      ],
      "metadata": {
        "id": "1HBNHBWqDS47"
      },
      "execution_count": null,
      "outputs": []
    },
    {
      "cell_type": "code",
      "source": [
        "with open(\"/content/drive/MyDrive/file/ggg.txt\",\"r\") as file:\n",
        "  print(file.read())"
      ],
      "metadata": {
        "colab": {
          "base_uri": "https://localhost:8080/"
        },
        "id": "NM6a4RulEZc9",
        "outputId": "107604ef-c068-4842-8301-9d471637a244"
      },
      "execution_count": null,
      "outputs": [
        {
          "output_type": "stream",
          "name": "stdout",
          "text": [
            "Python is awesome!\n",
            "Let's learn file handling.\n",
            "\n"
          ]
        }
      ]
    },
    {
      "cell_type": "code",
      "source": [
        "#Handling division by zero error\n",
        "try:\n",
        "  num = int(input(\"enter a number:\"))\n",
        "  print(10 / num)\n",
        "except ZeroDivisionError:\n",
        "  print(\"you cannot divide by zero\")\n",
        "except valueError:\n",
        " print(\"invalid input! enter integer\")\n"
      ],
      "metadata": {
        "colab": {
          "base_uri": "https://localhost:8080/"
        },
        "id": "jyFtSyO4UJR0",
        "outputId": "1b38fb2b-9fd6-4a26-b228-6bcc96dfec8b"
      },
      "execution_count": 65,
      "outputs": [
        {
          "output_type": "stream",
          "name": "stdout",
          "text": [
            "enter a number:0\n",
            "you cannot divide by zero\n"
          ]
        }
      ]
    },
    {
      "cell_type": "markdown",
      "source": [
        "# **Problem solving**"
      ],
      "metadata": {
        "id": "Z0YfMoMtWPJ5"
      }
    },
    {
      "cell_type": "code",
      "source": [
        "file=open(\"/content/drive/MyDrive/file/ggg.txt\",\"w\")\n",
        "file.write(\"Hello, world!\\n\")\n",
        "file.close()"
      ],
      "metadata": {
        "id": "f1ACRtRlWOKA"
      },
      "execution_count": 96,
      "outputs": []
    },
    {
      "cell_type": "code",
      "source": [
        "file=open(\"/content/drive/MyDrive/file/ggg.txt\",\"r\")\n",
        "content=file.read()\n",
        "print(content)\n",
        "file.close()"
      ],
      "metadata": {
        "colab": {
          "base_uri": "https://localhost:8080/"
        },
        "id": "_rOv-DJ7Xjgw",
        "outputId": "76be815c-fa36-4ff2-d973-3c298edda2da"
      },
      "execution_count": 97,
      "outputs": [
        {
          "output_type": "stream",
          "name": "stdout",
          "text": [
            "Hello, world!\n",
            "\n"
          ]
        }
      ]
    },
    {
      "cell_type": "code",
      "source": [
        "import random\n",
        "random_number=random.randint(1,6)\n",
        "print(\"The random number is:\", random_number)"
      ],
      "metadata": {
        "colab": {
          "base_uri": "https://localhost:8080/"
        },
        "id": "mcvZ1kRdZpqJ",
        "outputId": "5c978456-ef94-48f3-f99f-eae490957e81"
      },
      "execution_count": 98,
      "outputs": [
        {
          "output_type": "stream",
          "name": "stdout",
          "text": [
            "The random number is: 1\n"
          ]
        }
      ]
    },
    {
      "cell_type": "code",
      "source": [
        "with open(\"/content/data.txt\", \"a\") as file:\n",
        "    file.write(\"\\nWelcome to Python programming!\")"
      ],
      "metadata": {
        "id": "kU75D2AgdC9g"
      },
      "execution_count": 99,
      "outputs": []
    },
    {
      "cell_type": "code",
      "source": [
        "with open(\"/content/data.txt\", \"r\") as file:\n",
        "    print(\"Number of lines:\", len(file.readlines()))"
      ],
      "metadata": {
        "colab": {
          "base_uri": "https://localhost:8080/"
        },
        "id": "TeICUn2Ge7Bg",
        "outputId": "03a819fd-aca0-4523-8bb0-b678cd7b58c2"
      },
      "execution_count": 100,
      "outputs": [
        {
          "output_type": "stream",
          "name": "stdout",
          "text": [
            "Number of lines: 2\n"
          ]
        }
      ]
    },
    {
      "cell_type": "code",
      "source": [
        "with open(\"/content/data.txt\", \"r\") as file:\n",
        "    words = file.read().split()\n",
        "    print(\"Number of words:\", len(words))"
      ],
      "metadata": {
        "colab": {
          "base_uri": "https://localhost:8080/"
        },
        "id": "2U0eJrpCfBVJ",
        "outputId": "c0c68305-d126-4d8e-a126-da7b2c2b8859"
      },
      "execution_count": 101,
      "outputs": [
        {
          "output_type": "stream",
          "name": "stdout",
          "text": [
            "Number of words: 4\n"
          ]
        }
      ]
    },
    {
      "cell_type": "code",
      "source": [
        "with open(\"/content/data.txt\", \"r\") as src, open(\"/content/data.txt\", \"w\") as dst:\n",
        "    dst.write(src.read())"
      ],
      "metadata": {
        "id": "mLOVtF5SfSVo"
      },
      "execution_count": 102,
      "outputs": []
    },
    {
      "cell_type": "code",
      "source": [
        "import os\n",
        "print(\"File exists:\", os.path.isfile(\"\"))"
      ],
      "metadata": {
        "colab": {
          "base_uri": "https://localhost:8080/"
        },
        "id": "QU_jZE2Ugzay",
        "outputId": "63ce044a-75c4-466b-97fc-82246492f6a1"
      },
      "execution_count": 103,
      "outputs": [
        {
          "output_type": "stream",
          "name": "stdout",
          "text": [
            "File exists: False\n"
          ]
        }
      ]
    },
    {
      "cell_type": "code",
      "source": [
        "with open(\"data.txt\", \"r\") as file:\n",
        "    for line in file:\n",
        "        print(line.strip(\"Hello world\"))"
      ],
      "metadata": {
        "id": "GQdTKXj5hbvE"
      },
      "execution_count": 106,
      "outputs": []
    },
    {
      "cell_type": "code",
      "source": [
        "word_to_search = \"Python\"\n",
        "with open(\"data.txt\", \"r\") as file:\n",
        "    for line in file:\n",
        "        if word_to_search in line:\n",
        "            print(line.strip())"
      ],
      "metadata": {
        "id": "yMAtkt8dii9j"
      },
      "execution_count": 107,
      "outputs": []
    },
    {
      "cell_type": "code",
      "source": [
        "data = {\"name\": \"Alice\"}\n",
        "try:\n",
        "    print(data[\"age\"])\n",
        "except KeyError:\n",
        "    print(\"Error: Key not found.\")"
      ],
      "metadata": {
        "colab": {
          "base_uri": "https://localhost:8080/"
        },
        "id": "XCHvZDxOjTNG",
        "outputId": "a9820c64-df3a-48e9-e996-fcae01369650"
      },
      "execution_count": 108,
      "outputs": [
        {
          "output_type": "stream",
          "name": "stdout",
          "text": [
            "Error: Key not found.\n"
          ]
        }
      ]
    },
    {
      "cell_type": "code",
      "source": [
        "def count_word_occurrences(file_path, target_word):\n",
        "    with open(file_path, 'r') as file:\n",
        "        content = file.read()\n",
        "        word_count = content.split().count(target_word)\n",
        "    return word_count\n",
        "\n",
        "file_path = 'data.txt'\n",
        "word = 'Python'\n",
        "print(f\"The word '{word}' appears {count_word_occurrences(file_path, word)} times in {file_path}.\")"
      ],
      "metadata": {
        "colab": {
          "base_uri": "https://localhost:8080/"
        },
        "id": "f64GdLMQl1s7",
        "outputId": "f30b53e8-f5f7-4a25-ef25-79469906d88f"
      },
      "execution_count": 115,
      "outputs": [
        {
          "output_type": "stream",
          "name": "stdout",
          "text": [
            "The word 'Python' appears 0 times in data.txt.\n"
          ]
        }
      ]
    },
    {
      "cell_type": "markdown",
      "source": [
        "** Remove a Word from a** **File**"
      ],
      "metadata": {
        "id": "nutQq-DqmD8C"
      }
    },
    {
      "cell_type": "code",
      "source": [
        "def remove_word(file_path, target_word):\n",
        "    with open(file_path, 'r') as file:\n",
        "        content = file.read()\n",
        "\n",
        "    updated_content = content.replace(target_word, '')\n",
        "\n",
        "    with open(file_path, 'w') as file:\n",
        "        file.write(updated_content)\n",
        "\n",
        "file_path = 'data.txt'\n",
        "word = 'Hello'\n",
        "remove_word(file_path, word)\n",
        "print(f\"All occurrences of '{word}' have been removed from {file_path}.\")"
      ],
      "metadata": {
        "colab": {
          "base_uri": "https://localhost:8080/"
        },
        "id": "hOwnAf1ImImh",
        "outputId": "a851c77a-8f0b-4cf2-c94c-efdfc33f6a06"
      },
      "execution_count": 116,
      "outputs": [
        {
          "output_type": "stream",
          "name": "stdout",
          "text": [
            "All occurrences of 'Hello' have been removed from data.txt.\n"
          ]
        }
      ]
    },
    {
      "cell_type": "markdown",
      "source": [
        "**File Encryption (Caesar Cipher, shift by 2 positions)**"
      ],
      "metadata": {
        "id": "wTjZA5EJmWif"
      }
    },
    {
      "cell_type": "code",
      "source": [
        "def caesar_cipher_encrypt(file_path, output_file, shift=2):\n",
        "    with open(file_path, 'r') as file:\n",
        "        content = file.read()\n",
        "\n",
        "    encrypted_content = ''.join(chr(ord(char) + shift) if char.isprintable() else char for char in content)\n",
        "\n",
        "    with open(output_file, 'w') as file:\n",
        "        file.write(encrypted_content)\n",
        "\n",
        "file_path = 'data.txt'\n",
        "output_file = 'encrypted.txt'\n",
        "caesar_cipher_encrypt(file_path, output_file)\n",
        "print(f\"File encrypted and saved as {output_file}.\")"
      ],
      "metadata": {
        "colab": {
          "base_uri": "https://localhost:8080/"
        },
        "id": "4sxZ-Mitmav4",
        "outputId": "a23d4a05-b63c-4697-eca5-92fd12911c2f"
      },
      "execution_count": 117,
      "outputs": [
        {
          "output_type": "stream",
          "name": "stdout",
          "text": [
            "File encrypted and saved as encrypted.txt.\n"
          ]
        }
      ]
    },
    {
      "cell_type": "markdown",
      "source": [
        "** File Decryption**"
      ],
      "metadata": {
        "id": "ERu4npbumw6C"
      }
    },
    {
      "cell_type": "code",
      "source": [
        "def caesar_cipher_decrypt(input_file, output_file, shift=2):\n",
        "    with open(input_file, 'r') as file:\n",
        "        content = file.read()\n",
        "\n",
        "    decrypted_content = ''.join(chr(ord(char) - shift) if char.isprintable() else char for char in content)\n",
        "\n",
        "    with open(output_file, 'w') as file:\n",
        "        file.write(decrypted_content)\n",
        "\n",
        "input_file = 'encrypted.txt'\n",
        "output_file = 'decrypted.txt'\n",
        "caesar_cipher_decrypt(input_file, output_file)\n",
        "print(f\"File decrypted and saved as {output_file}.\")"
      ],
      "metadata": {
        "colab": {
          "base_uri": "https://localhost:8080/"
        },
        "id": "oQkNiuZqmyqY",
        "outputId": "fbfa8c6a-9a0d-4c1b-bace-bdf6cae8fb15"
      },
      "execution_count": 118,
      "outputs": [
        {
          "output_type": "stream",
          "name": "stdout",
          "text": [
            "File decrypted and saved as decrypted.txt.\n"
          ]
        }
      ]
    }
  ]
}