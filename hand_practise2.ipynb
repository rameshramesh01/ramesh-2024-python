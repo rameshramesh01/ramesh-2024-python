{
  "nbformat": 4,
  "nbformat_minor": 0,
  "metadata": {
    "colab": {
      "provenance": []
    },
    "kernelspec": {
      "name": "python3",
      "display_name": "Python 3"
    },
    "language_info": {
      "name": "python"
    }
  },
  "cells": [
    {
      "cell_type": "code",
      "execution_count": null,
      "metadata": {
        "id": "1qm0lm-eTUK0"
      },
      "outputs": [],
      "source": []
    },
    {
      "cell_type": "code",
      "source": [
        "Start = int(input(\"Enter the start of the range:\"))\n",
        "end = int(input(\"Enter the end of the range:\"))\n",
        "sum = 0\n",
        "for i in range(Start,end +1):\n",
        "    sum += i\n",
        "print(\"The sum is:\",sum)"
      ],
      "metadata": {
        "colab": {
          "base_uri": "https://localhost:8080/"
        },
        "id": "WjY2ktMJDH5w",
        "outputId": "dcfd8305-638e-4d39-8e21-8209cc457e82"
      },
      "execution_count": null,
      "outputs": [
        {
          "output_type": "stream",
          "name": "stdout",
          "text": [
            "Enter the start of the range:5\n",
            "Enter the end of the range:10\n",
            "The sum is: 45\n"
          ]
        }
      ]
    },
    {
      "cell_type": "code",
      "source": [
        "number = int(input(\"enter a number.\"))\n",
        "factorial =1\n",
        "for i in range(1,number+1):\n",
        "  factorial *=i\n",
        "  print(\"the factorial is\",factorial)"
      ],
      "metadata": {
        "colab": {
          "base_uri": "https://localhost:8080/"
        },
        "id": "J63ga0WlGAvw",
        "outputId": "cff913f3-755a-4738-a2d5-94a37a07b9ab"
      },
      "execution_count": null,
      "outputs": [
        {
          "output_type": "stream",
          "name": "stdout",
          "text": [
            "enter a number.5\n",
            "the factorial is 1\n",
            "the factorial is 2\n",
            "the factorial is 6\n",
            "the factorial is 24\n",
            "the factorial is 120\n"
          ]
        }
      ]
    },
    {
      "cell_type": "code",
      "source": [
        "n = int (input(\"Enter the of terms:\"))\n",
        "a,b=0,1\n",
        "for i in range(n):\n",
        "  print(a, end=\"\")\n",
        "  a,b=b,a + b"
      ],
      "metadata": {
        "colab": {
          "base_uri": "https://localhost:8080/"
        },
        "id": "uEDgqE0NHTag",
        "outputId": "e271243f-78d2-4b5d-eead-eac2db3cf159"
      },
      "execution_count": null,
      "outputs": [
        {
          "output_type": "stream",
          "name": "stdout",
          "text": [
            "Enter the of terms:5\n",
            "01123"
          ]
        }
      ]
    },
    {
      "cell_type": "code",
      "source": [
        "num1 = float(input(\"Enter first number:\"))\n",
        "num2 = float(input(\"Enter second number:\"))\n",
        "operation=input(\"Enter operation(+,-,*,/,//):\")\n",
        "if operation == '+':\n",
        "  print(\"Result:\", num1 + num2)\n",
        "elif operation == '-':\n",
        "  print(\"Result:\", num1 - num2)\n",
        "elif operation == '*':\n",
        "  print(\"Result:\", num1 * num2)\n",
        "elif operation == '/':\n",
        "  print(\"Result:\", num1 / num2)\n",
        "\n",
        "else:\n",
        "  print(\"invalid operation\")\n"
      ],
      "metadata": {
        "id": "j1WTrV83KXfh",
        "colab": {
          "base_uri": "https://localhost:8080/"
        },
        "outputId": "a745df33-73e7-4260-839f-5ec8bdd6e8e9"
      },
      "execution_count": null,
      "outputs": [
        {
          "output_type": "stream",
          "name": "stdout",
          "text": [
            "Enter first number:6\n",
            "Enter second number:9\n",
            "Enter operation(+,-,*,/):/\n",
            "Result: 0.6666666666666666\n"
          ]
        }
      ]
    },
    {
      "cell_type": "code",
      "source": [
        "num1 = float(input(\"Enter first number:\"))\n",
        "num2 = float(input(\"Enter second number:\"))\n",
        "operation=input(\"Enter operation(+,-,*,/,//):\")\n",
        "if operation == '+':\n",
        "  print(\"Result:\", num1 + num2)\n",
        "elif operation == '-':\n",
        "  print(\"Result:\", num1 - num2)\n",
        "elif operation == '*':\n",
        "  print(\"Result:\", num1 * num2)\n",
        "elif operation == '/':\n",
        "  print(\"Result:\", num1 / num2)\n",
        "elif operation == '//':\n",
        "  print(\"Result:\", num1 // num2)\n",
        "\n",
        "else:\n",
        "  print(\"invalid operation\")\n"
      ],
      "metadata": {
        "colab": {
          "base_uri": "https://localhost:8080/"
        },
        "outputId": "7556c7e2-b223-4794-fd3d-a05e8a93f7da",
        "id": "D1g7rYbvYEZ4"
      },
      "execution_count": null,
      "outputs": [
        {
          "output_type": "stream",
          "name": "stdout",
          "text": [
            "Enter first number:6\n",
            "Enter second number:9\n",
            "Enter operation(+,-,*,/,//)://\n",
            "Result: 0.0\n"
          ]
        }
      ]
    },
    {
      "cell_type": "code",
      "source": [
        "year=int(input(\"Enter a year:\"))\n",
        "if(year%4==0 and year % 100!=0)or(year%400==0):\n",
        "  print(\"Leap year\")\n",
        "else:\n",
        "  print(\"Not a Leap Year\")\n"
      ],
      "metadata": {
        "colab": {
          "base_uri": "https://localhost:8080/"
        },
        "id": "54PuhtCKeANG",
        "outputId": "61a1fde3-24fe-48c7-8113-ab2859d9d277"
      },
      "execution_count": null,
      "outputs": [
        {
          "output_type": "stream",
          "name": "stdout",
          "text": [
            "Enter a year:2024\n",
            "Leap year\n"
          ]
        }
      ]
    },
    {
      "cell_type": "code",
      "source": [
        "num1=float(input(\"Enter first number:\"))\n",
        "num2=float(input(\"Enter second number:\"))\n",
        "num3=float(input(\"Enetr third number:\"))\n",
        "if num>=num2 and num1>=num3:\n",
        "  print(\"Largest number is:\",num)\n",
        "elif num2>=num3:\n",
        "  print(\"Largest number is:\",num2)\n",
        "else:\n",
        "  print(\"Largest number is:\",num3)"
      ],
      "metadata": {
        "colab": {
          "base_uri": "https://localhost:8080/"
        },
        "id": "Exdq35t8gbw8",
        "outputId": "59d66c9d-21ab-4013-842f-c4688e468f9a"
      },
      "execution_count": null,
      "outputs": [
        {
          "output_type": "stream",
          "name": "stdout",
          "text": [
            "Enter first number:7\n",
            "Enter second number:6\n",
            "Enetr third number:18\n",
            "Largest number is: 18.0\n"
          ]
        }
      ]
    },
    {
      "cell_type": "code",
      "source": [
        "a = int(input(\"enter a number\"))\n",
        "if a>0:\n",
        "  print(\"positive\")\n",
        "elif a<0:\n",
        "  print(\"negative\")\n",
        "else:\n",
        "  print(\"Zero\")"
      ],
      "metadata": {
        "colab": {
          "base_uri": "https://localhost:8080/"
        },
        "id": "GfZm_44bi3m2",
        "outputId": "3624f8e6-1aef-4fcf-e65f-bfb5634963df"
      },
      "execution_count": null,
      "outputs": [
        {
          "output_type": "stream",
          "name": "stdout",
          "text": [
            "enter a number66\n",
            "positive\n"
          ]
        }
      ]
    },
    {
      "cell_type": "code",
      "source": [
        "start = int(input(\"Enter start of range:\"))\n",
        "end = int(input(\"Enter end of range:\"))\n",
        "even_sum=0\n",
        "for num in range(start,end+1):\n",
        "  if num%2==0:\n",
        "    even_sum+=num\n",
        "print(\"Sum of even numbers:\",even_sum)\n"
      ],
      "metadata": {
        "colab": {
          "base_uri": "https://localhost:8080/"
        },
        "id": "OJoaL9t0kbdF",
        "outputId": "a2b2a35e-d94a-4bc5-8ee9-18c695acfb8b"
      },
      "execution_count": null,
      "outputs": [
        {
          "output_type": "stream",
          "name": "stdout",
          "text": [
            "Enter start of range:6\n",
            "Enter end of range:6\n",
            "Sum of even numbers: 6\n"
          ]
        }
      ]
    }
  ]
}