{
  "nbformat": 4,
  "nbformat_minor": 0,
  "metadata": {
    "colab": {
      "provenance": []
    },
    "kernelspec": {
      "name": "python3",
      "display_name": "Python 3"
    },
    "language_info": {
      "name": "python"
    }
  },
  "cells": [
    {
      "cell_type": "code",
      "execution_count": null,
      "metadata": {
        "id": "1qm0lm-eTUK0"
      },
      "outputs": [],
      "source": []
    },
    {
      "cell_type": "code",
      "execution_count": null,
      "metadata": {
        "colab": {
          "base_uri": "https://localhost:8080/"
        },
        "id": "7dBk92Nv1Vj4",
        "outputId": "88d5e3cc-3b3d-4be3-fdc1-82f97d47e1a4"
      },
      "outputs": [
        {
          "output_type": "stream",
          "name": "stdout",
          "text": [
            "you are eligible to vote\n"
          ]
        }
      ],
      "source": [
        "age=18\n",
        "if age >= 18:\n",
        "  print(\"you are eligible to vote\")"
      ]
    },
    {
      "cell_type": "code",
      "source": [
        "num=int(input(\"Enter a number:\"))\n",
        "if num % 2 == 0:\n",
        "  print(\"The number even number\")\n",
        "else:\n",
        "  print(\"The number odd number\")\n"
      ],
      "metadata": {
        "colab": {
          "base_uri": "https://localhost:8080/"
        },
        "id": "-fkP0MWn2Q8j",
        "outputId": "316724a4-a0d6-42c0-fb6a-a1ecafcf7108"
      },
      "execution_count": null,
      "outputs": [
        {
          "output_type": "stream",
          "name": "stdout",
          "text": [
            "Enter a number:55\n",
            "The number odd number\n"
          ]
        }
      ]
    },
    {
      "cell_type": "code",
      "source": [
        "marks = int(input(\"Enter the number\"))\n",
        "if marks>=90:\n",
        "  print(\"grade: A\")\n",
        "elif marks >=75:\n",
        "  print(\"grade: B\")\n",
        "elif marks >=50:\n",
        "  print(\"grade: C\")\n",
        "else:\n",
        "  print(\"grade: F\")"
      ],
      "metadata": {
        "colab": {
          "base_uri": "https://localhost:8080/"
        },
        "id": "Xq2O35yp3Ojz",
        "outputId": "2cf6e45a-822c-488a-eef0-b4ab217b2184"
      },
      "execution_count": null,
      "outputs": [
        {
          "output_type": "stream",
          "name": "stdout",
          "text": [
            "Enter the number7\n",
            "grade: F\n"
          ]
        }
      ]
    },
    {
      "cell_type": "code",
      "source": [
        "for i in range(5):\n",
        "  print(\"interation:\",i)\n"
      ],
      "metadata": {
        "colab": {
          "base_uri": "https://localhost:8080/"
        },
        "id": "HiPksE0B64QS",
        "outputId": "227e621a-501a-4796-de42-592e62e2a9ef"
      },
      "execution_count": null,
      "outputs": [
        {
          "output_type": "stream",
          "name": "stdout",
          "text": [
            "interation: 0\n",
            "interation: 1\n",
            "interation: 2\n",
            "interation: 3\n",
            "interation: 4\n"
          ]
        }
      ]
    },
    {
      "cell_type": "code",
      "source": [
        "for i in range(5,10):\n",
        "  print(\"interation:\",i)"
      ],
      "metadata": {
        "colab": {
          "base_uri": "https://localhost:8080/"
        },
        "id": "3hqSBOFV7Grh",
        "outputId": "5c24b13e-5143-4f3d-c3a6-4563a7cd1275"
      },
      "execution_count": null,
      "outputs": [
        {
          "output_type": "stream",
          "name": "stdout",
          "text": [
            "interation: 5\n",
            "interation: 6\n",
            "interation: 7\n",
            "interation: 8\n",
            "interation: 9\n"
          ]
        }
      ]
    },
    {
      "cell_type": "code",
      "source": [
        "for i in range(5,50,10):\n",
        "  print(\"interation\",i)"
      ],
      "metadata": {
        "colab": {
          "base_uri": "https://localhost:8080/"
        },
        "id": "ixSQfbCU7X-h",
        "outputId": "3d46ae5e-24cb-4837-eaa6-fc0406fca7ac"
      },
      "execution_count": null,
      "outputs": [
        {
          "output_type": "stream",
          "name": "stdout",
          "text": [
            "interation 5\n",
            "interation 15\n",
            "interation 25\n",
            "interation 35\n",
            "interation 45\n"
          ]
        }
      ]
    },
    {
      "cell_type": "code",
      "source": [
        "count=0\n",
        "while count<5:\n",
        "  print(\"count:\",count)\n",
        "  count += 1"
      ],
      "metadata": {
        "colab": {
          "base_uri": "https://localhost:8080/"
        },
        "id": "oms4kfPt7ldB",
        "outputId": "5a422b4a-a10f-4aed-8aa5-fb2acb04efcc"
      },
      "execution_count": null,
      "outputs": [
        {
          "output_type": "stream",
          "name": "stdout",
          "text": [
            "count: 0\n",
            "count: 1\n",
            "count: 2\n",
            "count: 3\n",
            "count: 4\n"
          ]
        }
      ]
    }
  ]
}