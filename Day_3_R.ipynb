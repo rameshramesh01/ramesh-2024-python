{
  "nbformat": 4,
  "nbformat_minor": 0,
  "metadata": {
    "colab": {
      "provenance": []
    },
    "kernelspec": {
      "name": "python3",
      "display_name": "Python 3"
    },
    "language_info": {
      "name": "python"
    }
  },
  "cells": [
    {
      "cell_type": "markdown",
      "source": [
        "Functions and Module"
      ],
      "metadata": {
        "id": "7BYqdn-veo9s"
      }
    },
    {
      "cell_type": "code",
      "source": [
        "def greet(name):\n",
        "  print(\"helo,\"+name+\"!\")\n",
        "greet(\"alice\")"
      ],
      "metadata": {
        "colab": {
          "base_uri": "https://localhost:8080/"
        },
        "id": "hKN98XkeetNU",
        "outputId": "a3574e25-59e0-4066-851e-40f1a559f48e"
      },
      "execution_count": 11,
      "outputs": [
        {
          "output_type": "stream",
          "name": "stdout",
          "text": [
            "helo,alice!\n"
          ]
        }
      ]
    },
    {
      "cell_type": "markdown",
      "source": [
        "## **FUNCTIONAL** **ARGUMENTS**"
      ],
      "metadata": {
        "id": "ytdFK3JQfnzf"
      }
    },
    {
      "cell_type": "markdown",
      "source": [
        "Positional arguments"
      ],
      "metadata": {
        "id": "LzaPDOQUfgcv"
      }
    },
    {
      "cell_type": "code",
      "source": [
        "def add(a, b):\n",
        "  return a + b\n",
        "print(add(6, 8))"
      ],
      "metadata": {
        "colab": {
          "base_uri": "https://localhost:8080/"
        },
        "id": "egHH5yvqfeYX",
        "outputId": "5b7cc9de-521a-4271-b323-bcd678ef7ffa"
      },
      "execution_count": 19,
      "outputs": [
        {
          "output_type": "stream",
          "name": "stdout",
          "text": [
            "14\n"
          ]
        }
      ]
    },
    {
      "cell_type": "markdown",
      "source": [
        "Keyword arguments"
      ],
      "metadata": {
        "id": "6v7qbPbFj2TY"
      }
    },
    {
      "cell_type": "code",
      "source": [
        "def greet(name, message):\n",
        "  print(message +\",\" +name + \"!\")\n",
        "greet(name=\"alice\",message=\"good morning\")"
      ],
      "metadata": {
        "colab": {
          "base_uri": "https://localhost:8080/"
        },
        "id": "YfsuopGLgUPn",
        "outputId": "cb8a5a32-f093-4fe8-df9f-347d56c5d627"
      },
      "execution_count": 21,
      "outputs": [
        {
          "output_type": "stream",
          "name": "stdout",
          "text": [
            "good morning,alice!\n"
          ]
        }
      ]
    },
    {
      "cell_type": "code",
      "source": [
        "#default Arguments\n",
        "def greet(name, message=\"Hello\"):\n",
        "  print(message + \",\" + name + \"!\")\n",
        "greet(\"Alice\")\n",
        "greet(\"Bob\", \"Hi\")"
      ],
      "metadata": {
        "colab": {
          "base_uri": "https://localhost:8080/"
        },
        "id": "he57iwU1hLld",
        "outputId": "db6256d2-f184-4cce-90e2-e723d7589425"
      },
      "execution_count": 22,
      "outputs": [
        {
          "output_type": "stream",
          "name": "stdout",
          "text": [
            "Hello,Alice!\n",
            "Hi,Bob!\n"
          ]
        }
      ]
    },
    {
      "cell_type": "code",
      "source": [
        "# Variable length argument\n",
        "def sum_numbers(*numbers):\n",
        "  return sum(numbers)\n",
        "print(sum_numbers(1,2,3,4))"
      ],
      "metadata": {
        "colab": {
          "base_uri": "https://localhost:8080/"
        },
        "collapsed": true,
        "id": "gE7vpjMwh70I",
        "outputId": "c29a4f53-6da2-4130-bc5a-bc69daa46793"
      },
      "execution_count": 24,
      "outputs": [
        {
          "output_type": "stream",
          "name": "stdout",
          "text": [
            "10\n"
          ]
        }
      ]
    },
    {
      "cell_type": "code",
      "source": [
        "def Ramesh(**kwargs):\n",
        "  for key, value in kwargs.items():\n",
        "    print(f\"{key}: {value}\")\n",
        "Ramesh(name=\"Ramesh\", age=\"25\", city=\"paris\")"
      ],
      "metadata": {
        "colab": {
          "base_uri": "https://localhost:8080/"
        },
        "id": "VhzolHKjjTHI",
        "outputId": "cbfd6157-7699-4bc7-a72d-566e1feeeb15"
      },
      "execution_count": 33,
      "outputs": [
        {
          "output_type": "stream",
          "name": "stdout",
          "text": [
            "name: Ramesh\n",
            "age: 25\n",
            "city: paris\n"
          ]
        }
      ]
    },
    {
      "cell_type": "markdown",
      "source": [
        "Return Statement"
      ],
      "metadata": {
        "id": "LU1j4PvBnytV"
      }
    },
    {
      "cell_type": "code",
      "source": [
        "def square(num):\n",
        "  return num*num\n",
        "square(5)"
      ],
      "metadata": {
        "colab": {
          "base_uri": "https://localhost:8080/"
        },
        "id": "vVDIvo8an2_F",
        "outputId": "c9b4f223-5a65-47d1-e0aa-5aff69977305"
      },
      "execution_count": 38,
      "outputs": [
        {
          "output_type": "execute_result",
          "data": {
            "text/plain": [
              "25"
            ]
          },
          "metadata": {},
          "execution_count": 38
        }
      ]
    },
    {
      "cell_type": "code",
      "source": [
        "result=square(5)\n",
        "print(\"square is:\", result)\n"
      ],
      "metadata": {
        "colab": {
          "base_uri": "https://localhost:8080/"
        },
        "id": "JvNYCRBgp4Dn",
        "outputId": "6b3e860f-dae9-4692-c7bd-b897f655dda1"
      },
      "execution_count": 39,
      "outputs": [
        {
          "output_type": "stream",
          "name": "stdout",
          "text": [
            "square is: 25\n"
          ]
        }
      ]
    },
    {
      "cell_type": "markdown",
      "source": [
        "## importing **Modules**"
      ],
      "metadata": {
        "id": "01FpO7JEqXRQ"
      }
    },
    {
      "cell_type": "code",
      "source": [
        "import math\n",
        "print(math.sqrt(16))"
      ],
      "metadata": {
        "colab": {
          "base_uri": "https://localhost:8080/"
        },
        "id": "f0N6cNk4qchc",
        "outputId": "de4c50d0-5f7f-43c4-c7ff-304df0702d88"
      },
      "execution_count": 41,
      "outputs": [
        {
          "output_type": "stream",
          "name": "stdout",
          "text": [
            "4.0\n"
          ]
        }
      ]
    },
    {
      "cell_type": "code",
      "source": [
        "from math import pi, sin\n",
        "print(pi)\n",
        "print(sin(math.radians(55)))"
      ],
      "metadata": {
        "colab": {
          "base_uri": "https://localhost:8080/"
        },
        "id": "GafWc7WrrHfn",
        "outputId": "e463da91-edef-4569-8def-dc2da7034bc3"
      },
      "execution_count": 44,
      "outputs": [
        {
          "output_type": "stream",
          "name": "stdout",
          "text": [
            "3.141592653589793\n",
            "0.8191520442889918\n"
          ]
        }
      ]
    },
    {
      "cell_type": "code",
      "source": [
        "def greet(name):\n",
        "  print(\"Hello,\"+name)\n",
        "\n",
        "def add(a,b):\n",
        "  return a+b\n",
        "\n",
        "import my_module\n",
        "\n",
        "my_module.greet(\"Alice\")\n",
        "print(my_module.add(5,3))\n"
      ],
      "metadata": {
        "colab": {
          "base_uri": "https://localhost:8080/"
        },
        "id": "GMlmKmiAt-Gn",
        "outputId": "68557e64-30a6-48aa-9b9c-9a433149a261"
      },
      "execution_count": 55,
      "outputs": [
        {
          "output_type": "stream",
          "name": "stdout",
          "text": [
            "Hello,Alice\n",
            "8\n",
            "Hello,Alice\n",
            "8\n"
          ]
        }
      ]
    },
    {
      "cell_type": "code",
      "source": [
        "print(\"Hello world\")"
      ],
      "metadata": {
        "colab": {
          "base_uri": "https://localhost:8080/"
        },
        "id": "VDZqwgv9ymgd",
        "outputId": "f5392547-2ffd-4025-9478-c5155ed8f70c"
      },
      "execution_count": 57,
      "outputs": [
        {
          "output_type": "stream",
          "name": "stdout",
          "text": [
            "Hello world\n"
          ]
        }
      ]
    }
  ]
}