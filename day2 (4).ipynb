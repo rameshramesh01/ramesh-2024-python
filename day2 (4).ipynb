{
  "nbformat": 4,
  "nbformat_minor": 0,
  "metadata": {
    "colab": {
      "provenance": []
    },
    "kernelspec": {
      "name": "python3",
      "display_name": "Python 3"
    },
    "language_info": {
      "name": "python"
    }
  },
  "cells": [
    {
      "cell_type": "code",
      "execution_count": null,
      "metadata": {
        "colab": {
          "base_uri": "https://localhost:8080/"
        },
        "id": "7dBk92Nv1Vj4",
        "outputId": "88d5e3cc-3b3d-4be3-fdc1-82f97d47e1a4"
      },
      "outputs": [
        {
          "output_type": "stream",
          "name": "stdout",
          "text": [
            "you are eligible to vote\n"
          ]
        }
      ],
      "source": [
        "age=18\n",
        "if age >= 18:\n",
        "  print(\"you are eligible to vote\")"
      ]
    },
    {
      "cell_type": "code",
      "source": [
        "num=int(input(\"Enter a number:\"))\n",
        "if num % 2 == 0:\n",
        "  print(\"The number even number\")\n",
        "else:\n",
        "  print(\"The number odd number\")\n"
      ],
      "metadata": {
        "colab": {
          "base_uri": "https://localhost:8080/"
        },
        "id": "-fkP0MWn2Q8j",
        "outputId": "316724a4-a0d6-42c0-fb6a-a1ecafcf7108"
      },
      "execution_count": null,
      "outputs": [
        {
          "output_type": "stream",
          "name": "stdout",
          "text": [
            "Enter a number:55\n",
            "The number odd number\n"
          ]
        }
      ]
    },
    {
      "cell_type": "code",
      "source": [
        "marks = int(input(\"Enter the number\"))\n",
        "if marks>=90:\n",
        "  print(\"grade: A\")\n",
        "elif marks >=75:\n",
        "  print(\"grade: B\")\n",
        "elif marks >=50:\n",
        "  print(\"grade: C\")\n",
        "else:\n",
        "  print(\"grade: F\")"
      ],
      "metadata": {
        "colab": {
          "base_uri": "https://localhost:8080/"
        },
        "id": "Xq2O35yp3Ojz",
        "outputId": "2cf6e45a-822c-488a-eef0-b4ab217b2184"
      },
      "execution_count": null,
      "outputs": [
        {
          "output_type": "stream",
          "name": "stdout",
          "text": [
            "Enter the number7\n",
            "grade: F\n"
          ]
        }
      ]
    },
    {
      "cell_type": "code",
      "source": [
        "for i in range(5):\n",
        "  print(\"interation:\",i)\n"
      ],
      "metadata": {
        "colab": {
          "base_uri": "https://localhost:8080/"
        },
        "id": "HiPksE0B64QS",
        "outputId": "227e621a-501a-4796-de42-592e62e2a9ef"
      },
      "execution_count": null,
      "outputs": [
        {
          "output_type": "stream",
          "name": "stdout",
          "text": [
            "interation: 0\n",
            "interation: 1\n",
            "interation: 2\n",
            "interation: 3\n",
            "interation: 4\n"
          ]
        }
      ]
    },
    {
      "cell_type": "code",
      "source": [
        "for i in range(5,10):\n",
        "  print(\"interation:\",i)"
      ],
      "metadata": {
        "colab": {
          "base_uri": "https://localhost:8080/"
        },
        "id": "3hqSBOFV7Grh",
        "outputId": "5c24b13e-5143-4f3d-c3a6-4563a7cd1275"
      },
      "execution_count": null,
      "outputs": [
        {
          "output_type": "stream",
          "name": "stdout",
          "text": [
            "interation: 5\n",
            "interation: 6\n",
            "interation: 7\n",
            "interation: 8\n",
            "interation: 9\n"
          ]
        }
      ]
    },
    {
      "cell_type": "code",
      "source": [
        "for i in range(5,50,10):\n",
        "  print(\"interation\",i)"
      ],
      "metadata": {
        "colab": {
          "base_uri": "https://localhost:8080/"
        },
        "id": "ixSQfbCU7X-h",
        "outputId": "3d46ae5e-24cb-4837-eaa6-fc0406fca7ac"
      },
      "execution_count": null,
      "outputs": [
        {
          "output_type": "stream",
          "name": "stdout",
          "text": [
            "interation 5\n",
            "interation 15\n",
            "interation 25\n",
            "interation 35\n",
            "interation 45\n"
          ]
        }
      ]
    },
    {
      "cell_type": "code",
      "source": [
        "count=0\n",
        "while count<5:\n",
        "  print(\"count:\",count)\n",
        "  count += 1"
      ],
      "metadata": {
        "colab": {
          "base_uri": "https://localhost:8080/"
        },
        "id": "oms4kfPt7ldB",
        "outputId": "5a422b4a-a10f-4aed-8aa5-fb2acb04efcc"
      },
      "execution_count": null,
      "outputs": [
        {
          "output_type": "stream",
          "name": "stdout",
          "text": [
            "count: 0\n",
            "count: 1\n",
            "count: 2\n",
            "count: 3\n",
            "count: 4\n"
          ]
        }
      ]
    },
    {
      "cell_type": "code",
      "source": [],
      "metadata": {
        "id": "ceT2k3B38kk5"
      },
      "execution_count": null,
      "outputs": []
    },
    {
      "cell_type": "markdown",
      "source": [
        "**control** **flow** **tools**"
      ],
      "metadata": {
        "id": "nHLFJjO_8v2B"
      }
    },
    {
      "cell_type": "code",
      "source": [
        "for i in range(10):\n",
        "  if (i == 5):\n",
        "    break\n",
        "  print(i)"
      ],
      "metadata": {
        "colab": {
          "base_uri": "https://localhost:8080/"
        },
        "id": "RByZOA9486Yh",
        "outputId": "a2f9a8f3-fee9-4769-bd92-c3f8104bf136"
      },
      "execution_count": null,
      "outputs": [
        {
          "output_type": "stream",
          "name": "stdout",
          "text": [
            "0\n",
            "1\n",
            "2\n",
            "3\n",
            "4\n"
          ]
        }
      ]
    },
    {
      "cell_type": "code",
      "source": [
        "# Continue\n",
        "for i in range(10):\n",
        "  if i == 5:\n",
        "    continue\n",
        "  print(i)"
      ],
      "metadata": {
        "colab": {
          "base_uri": "https://localhost:8080/"
        },
        "id": "mKk5Ng459wwa",
        "outputId": "244d6721-f52c-4fc6-95f1-c61e67ed2a65"
      },
      "execution_count": null,
      "outputs": [
        {
          "output_type": "stream",
          "name": "stdout",
          "text": [
            "0\n",
            "1\n",
            "2\n",
            "3\n",
            "4\n",
            "6\n",
            "7\n",
            "8\n",
            "9\n"
          ]
        }
      ]
    },
    {
      "cell_type": "code",
      "source": [
        "for i in range(10):\n",
        "  if i == 5:\n",
        "    pass\n",
        "  print(i)"
      ],
      "metadata": {
        "colab": {
          "base_uri": "https://localhost:8080/"
        },
        "id": "jstUhPea-Htw",
        "outputId": "fcf6dc0d-0fe5-4a2a-b55c-cd5d81cbd865"
      },
      "execution_count": null,
      "outputs": [
        {
          "output_type": "stream",
          "name": "stdout",
          "text": [
            "0\n",
            "1\n",
            "2\n",
            "3\n",
            "4\n",
            "5\n",
            "6\n",
            "7\n",
            "8\n",
            "9\n"
          ]
        }
      ]
    },
    {
      "cell_type": "code",
      "source": [
        "number=int(input(\"Enter a number\"))\n",
        "if number % 2==0:\n",
        "   print(\"The number is even\")\n",
        "else:\n",
        "    print(\"The number is odd\")\n"
      ],
      "metadata": {
        "colab": {
          "base_uri": "https://localhost:8080/"
        },
        "id": "ZsWEh1KvCNff",
        "outputId": "373517d1-85e8-4dce-de5f-8e80f2ca23cd"
      },
      "execution_count": null,
      "outputs": [
        {
          "output_type": "stream",
          "name": "stdout",
          "text": [
            "Enter a number55\n",
            "The number is odd\n"
          ]
        }
      ]
    },
    {
      "cell_type": "markdown",
      "source": [
        "Sum of number in  range"
      ],
      "metadata": {
        "id": "lgJTzQOfC-VQ"
      }
    },
    {
      "cell_type": "code",
      "source": [
        "Start = int(input(\"Enter the start of the range:\"))\n",
        "end = int(input(\"Enter the end of the range:\"))\n",
        "sum = 0\n",
        "for i in range(Start,end +1):\n",
        "    sum += i\n",
        "print(\"The sum is:\",sum)"
      ],
      "metadata": {
        "colab": {
          "base_uri": "https://localhost:8080/"
        },
        "id": "WjY2ktMJDH5w",
        "outputId": "dcfd8305-638e-4d39-8e21-8209cc457e82"
      },
      "execution_count": null,
      "outputs": [
        {
          "output_type": "stream",
          "name": "stdout",
          "text": [
            "Enter the start of the range:5\n",
            "Enter the end of the range:10\n",
            "The sum is: 45\n"
          ]
        }
      ]
    },
    {
      "cell_type": "markdown",
      "source": [
        "Program to find the factorial in"
      ],
      "metadata": {
        "id": "VAYZWJsRG8Hp"
      }
    },
    {
      "cell_type": "code",
      "source": [
        "number = int(input(\"enter a number.\"))\n",
        "factorial =1\n",
        "for i in range(1,number+1):\n",
        "  factorial *=i\n",
        "  print(\"the factorial is\",factorial)"
      ],
      "metadata": {
        "colab": {
          "base_uri": "https://localhost:8080/"
        },
        "id": "J63ga0WlGAvw",
        "outputId": "cff913f3-755a-4738-a2d5-94a37a07b9ab"
      },
      "execution_count": null,
      "outputs": [
        {
          "output_type": "stream",
          "name": "stdout",
          "text": [
            "enter a number.5\n",
            "the factorial is 1\n",
            "the factorial is 2\n",
            "the factorial is 6\n",
            "the factorial is 24\n",
            "the factorial is 120\n"
          ]
        }
      ]
    },
    {
      "cell_type": "markdown",
      "source": [
        "**Fibonacci** **sequence**"
      ],
      "metadata": {
        "id": "IJoNGW0EJQb4"
      }
    },
    {
      "cell_type": "code",
      "source": [
        "n = int (input(\"Enter the of terms:\"))\n",
        "a,b=0,1\n",
        "for i in range(n):\n",
        "  print(a, end=\"\")\n",
        "  a,b=b,a + b"
      ],
      "metadata": {
        "colab": {
          "base_uri": "https://localhost:8080/"
        },
        "id": "uEDgqE0NHTag",
        "outputId": "e271243f-78d2-4b5d-eead-eac2db3cf159"
      },
      "execution_count": null,
      "outputs": [
        {
          "output_type": "stream",
          "name": "stdout",
          "text": [
            "Enter the of terms:5\n",
            "01123"
          ]
        }
      ]
    },
    {
      "cell_type": "code",
      "source": [
        "num1 = float(input(\"Enter first number:\"))\n",
        "num2 = float(input(\"Enter second number:\"))\n",
        "operation=input(\"Enter operation(+,-,*,/,//):\")\n",
        "if operation == '+':\n",
        "  print(\"Result:\", num1 + num2)\n",
        "elif operation == '-':\n",
        "  print(\"Result:\", num1 - num2)\n",
        "elif operation == '*':\n",
        "  print(\"Result:\", num1 * num2)\n",
        "elif operation == '/':\n",
        "  print(\"Result:\", num1 / num2)\n",
        "\n",
        "else:\n",
        "  print(\"invalid operation\")\n"
      ],
      "metadata": {
        "id": "j1WTrV83KXfh",
        "colab": {
          "base_uri": "https://localhost:8080/"
        },
        "outputId": "a745df33-73e7-4260-839f-5ec8bdd6e8e9"
      },
      "execution_count": null,
      "outputs": [
        {
          "output_type": "stream",
          "name": "stdout",
          "text": [
            "Enter first number:6\n",
            "Enter second number:9\n",
            "Enter operation(+,-,*,/):/\n",
            "Result: 0.6666666666666666\n"
          ]
        }
      ]
    },
    {
      "cell_type": "code",
      "source": [
        "num1 = float(input(\"Enter first number:\"))\n",
        "num2 = float(input(\"Enter second number:\"))\n",
        "operation=input(\"Enter operation(+,-,*,/,//):\")\n",
        "if operation == '+':\n",
        "  print(\"Result:\", num1 + num2)\n",
        "elif operation == '-':\n",
        "  print(\"Result:\", num1 - num2)\n",
        "elif operation == '*':\n",
        "  print(\"Result:\", num1 * num2)\n",
        "elif operation == '/':\n",
        "  print(\"Result:\", num1 / num2)\n",
        "elif operation == '//':\n",
        "  print(\"Result:\", num1 // num2)\n",
        "\n",
        "else:\n",
        "  print(\"invalid operation\")\n"
      ],
      "metadata": {
        "colab": {
          "base_uri": "https://localhost:8080/"
        },
        "outputId": "7556c7e2-b223-4794-fd3d-a05e8a93f7da",
        "id": "D1g7rYbvYEZ4"
      },
      "execution_count": null,
      "outputs": [
        {
          "output_type": "stream",
          "name": "stdout",
          "text": [
            "Enter first number:6\n",
            "Enter second number:9\n",
            "Enter operation(+,-,*,/,//)://\n",
            "Result: 0.0\n"
          ]
        }
      ]
    },
    {
      "cell_type": "markdown",
      "source": [
        "check the leap year"
      ],
      "metadata": {
        "id": "DECDQxtXgffF"
      }
    },
    {
      "cell_type": "code",
      "source": [
        "year=int(input(\"Enter a year:\"))\n",
        "if(year%4==0 and year % 100!=0)or(year%400==0):\n",
        "  print(\"Leap year\")\n",
        "else:\n",
        "  print(\"Not a Leap Year\")\n"
      ],
      "metadata": {
        "colab": {
          "base_uri": "https://localhost:8080/"
        },
        "id": "54PuhtCKeANG",
        "outputId": "61a1fde3-24fe-48c7-8113-ab2859d9d277"
      },
      "execution_count": null,
      "outputs": [
        {
          "output_type": "stream",
          "name": "stdout",
          "text": [
            "Enter a year:2024\n",
            "Leap year\n"
          ]
        }
      ]
    },
    {
      "cell_type": "markdown",
      "source": [
        "Find the largest of three numbers"
      ],
      "metadata": {
        "id": "GKTzW6hCgkRR"
      }
    },
    {
      "cell_type": "code",
      "source": [
        "num1=float(input(\"Enter first number:\"))\n",
        "num2=float(input(\"Enter second number:\"))\n",
        "num3=float(input(\"Enetr third number:\"))\n",
        "if num>=num2 and num1>=num3:\n",
        "  print(\"Largest number is:\",num)\n",
        "elif num2>=num3:\n",
        "  print(\"Largest number is:\",num2)\n",
        "else:\n",
        "  print(\"Largest number is:\",num3)"
      ],
      "metadata": {
        "colab": {
          "base_uri": "https://localhost:8080/"
        },
        "id": "Exdq35t8gbw8",
        "outputId": "59d66c9d-21ab-4013-842f-c4688e468f9a"
      },
      "execution_count": null,
      "outputs": [
        {
          "output_type": "stream",
          "name": "stdout",
          "text": [
            "Enter first number:7\n",
            "Enter second number:6\n",
            "Enetr third number:18\n",
            "Largest number is: 18.0\n"
          ]
        }
      ]
    },
    {
      "cell_type": "code",
      "source": [
        "a = int(input(\"enter a number\"))\n",
        "if a>0:\n",
        "  print(\"positive\")\n",
        "elif a<0:\n",
        "  print(\"negative\")\n",
        "else:\n",
        "  print(\"Zero\")"
      ],
      "metadata": {
        "colab": {
          "base_uri": "https://localhost:8080/"
        },
        "id": "GfZm_44bi3m2",
        "outputId": "3624f8e6-1aef-4fcf-e65f-bfb5634963df"
      },
      "execution_count": null,
      "outputs": [
        {
          "output_type": "stream",
          "name": "stdout",
          "text": [
            "enter a number66\n",
            "positive\n"
          ]
        }
      ]
    },
    {
      "cell_type": "markdown",
      "source": [
        "Sum of All Even Number in a range"
      ],
      "metadata": {
        "id": "lvl0J3aCj_zE"
      }
    },
    {
      "cell_type": "code",
      "source": [
        "start = int(input(\"Enter start of range:\"))\n",
        "end = int(input(\"Enter end of range:\"))\n",
        "even_sum=0\n",
        "for num in range(start,end+1):\n",
        "  if num%2==0:\n",
        "    even_sum+=num\n",
        "print(\"Sum of even numbers:\",even_sum)\n"
      ],
      "metadata": {
        "colab": {
          "base_uri": "https://localhost:8080/"
        },
        "id": "OJoaL9t0kbdF",
        "outputId": "a2b2a35e-d94a-4bc5-8ee9-18c695acfb8b"
      },
      "execution_count": 86,
      "outputs": [
        {
          "output_type": "stream",
          "name": "stdout",
          "text": [
            "Enter start of range:6\n",
            "Enter end of range:6\n",
            "Sum of even numbers: 6\n"
          ]
        }
      ]
    },
    {
      "cell_type": "markdown",
      "source": [
        "1st program"
      ],
      "metadata": {
        "id": "Zmeg44OqIOlR"
      }
    },
    {
      "cell_type": "code",
      "source": [
        "num1=float(input(\"Enter first number:\"))\n",
        "num2=float(input(\"Enter second number:\"))\n",
        "num3=float(input(\"Enter third number:\"))\n",
        "if num>=num2 and num2>=num3:\n",
        "  print(\"Largest number is:\",num)\n",
        "elif num2>=num3:\n",
        "  print(\"Largest number is:\",num2)\n",
        "else:\n",
        "  print(\"Largest number is:\",num3)\n",
        ""
      ],
      "metadata": {
        "id": "0sX5V7mVj9Nd",
        "colab": {
          "base_uri": "https://localhost:8080/"
        },
        "outputId": "0de33002-a1f2-48e8-e64e-aeac3bb8ee71"
      },
      "execution_count": 94,
      "outputs": [
        {
          "output_type": "stream",
          "name": "stdout",
          "text": [
            "Enter first number:8\n",
            "Enter second number:80\n",
            "Enter third number:77\n",
            "Largest number is: 2020\n"
          ]
        }
      ]
    },
    {
      "cell_type": "markdown",
      "source": [
        "Even or Odd numbers"
      ],
      "metadata": {
        "id": "yuMGw-etDBdL"
      }
    },
    {
      "cell_type": "markdown",
      "source": [
        "2nd program"
      ],
      "metadata": {
        "id": "U2MWKmumISf9"
      }
    },
    {
      "cell_type": "code",
      "source": [
        "num=int(input(\"enter a number:\"))\n",
        "if num % 2 == 0:\n",
        "  print(\"The number even number\")\n",
        "else:\n",
        "  print(\"The number odd number\")\n",
        ""
      ],
      "metadata": {
        "colab": {
          "base_uri": "https://localhost:8080/"
        },
        "id": "hWMuhhrgC-Cf",
        "outputId": "2e93dac8-eeda-4d7a-d5b3-3af7e5a98d0f"
      },
      "execution_count": 88,
      "outputs": [
        {
          "output_type": "stream",
          "name": "stdout",
          "text": [
            "enter a number:5\n",
            "The number odd number\n"
          ]
        }
      ]
    },
    {
      "cell_type": "markdown",
      "source": [
        "3rd program"
      ],
      "metadata": {
        "id": "CQMMSM_bIXrd"
      }
    },
    {
      "cell_type": "code",
      "source": [
        "num=int(input(\"Enter the number:\"))\n",
        "if num % 2 == 0 and  num % 3 == 0:\n",
        "  print(\"The number is divisible by 5 and 6.\")\n",
        "else:\n",
        "  print(\"The number is not divisible by 5 and 6.\")"
      ],
      "metadata": {
        "colab": {
          "base_uri": "https://localhost:8080/"
        },
        "id": "jo0USJX0F-S9",
        "outputId": "d03a33d4-a599-48ce-903e-4f577959ca94"
      },
      "execution_count": 92,
      "outputs": [
        {
          "output_type": "stream",
          "name": "stdout",
          "text": [
            "Enter the number:6\n",
            "The number is divisible by 5 and 6.\n"
          ]
        }
      ]
    },
    {
      "cell_type": "markdown",
      "source": [
        "program 4:"
      ],
      "metadata": {
        "id": "imM8Q1atP6hW"
      }
    },
    {
      "cell_type": "code",
      "source": [
        "#4\n",
        "num=int(input(\"Enter the number\"))\n",
        "if num % 4==0 and num % 100!=0 or num % 400==0:\n",
        "  print(\"its leap year\")\n",
        "else:\n",
        "  print(\"its not leap year\")"
      ],
      "metadata": {
        "colab": {
          "base_uri": "https://localhost:8080/"
        },
        "id": "hL0xYodoHPOG",
        "outputId": "11807afa-7635-443c-fc3e-eff3b7290012"
      },
      "execution_count": 93,
      "outputs": [
        {
          "output_type": "stream",
          "name": "stdout",
          "text": [
            "Enter the number2020\n",
            "its leap year\n"
          ]
        }
      ]
    },
    {
      "cell_type": "markdown",
      "source": [
        "program 5: Check a number is divisible by 3"
      ],
      "metadata": {
        "id": "VOwj5_rMIqes"
      }
    },
    {
      "cell_type": "code",
      "source": [
        "dvd=int(input(\"enter a number\"))\n",
        "if dvd/3:\n",
        "  print(\"dvd is divisible by 3\")\n",
        "else:\n",
        "  print(\"dvd is not divisible by 3\")\n",
        ""
      ],
      "metadata": {
        "colab": {
          "base_uri": "https://localhost:8080/"
        },
        "id": "ci71ls6EIclu",
        "outputId": "9c5b12cf-5fe3-4bc5-ec14-d6dcb03194dd"
      },
      "execution_count": 95,
      "outputs": [
        {
          "output_type": "stream",
          "name": "stdout",
          "text": [
            "enter a number18\n",
            "dvd is divisible by 3\n"
          ]
        }
      ]
    },
    {
      "cell_type": "markdown",
      "source": [
        "program 6:"
      ],
      "metadata": {
        "id": "sMrno8TbJuNo"
      }
    },
    {
      "cell_type": "code",
      "source": [
        "num=int(input(\"enter the number \"))\n",
        "if num>10:\n",
        "  print(\"Hello\")\n",
        "else:\n",
        "  print(\"Good  bye\")\n",
        ""
      ],
      "metadata": {
        "colab": {
          "base_uri": "https://localhost:8080/"
        },
        "id": "r0dOM-f5Jrum",
        "outputId": "84720b9d-b88b-4125-cb30-8ca84f0fd1a3"
      },
      "execution_count": 96,
      "outputs": [
        {
          "output_type": "stream",
          "name": "stdout",
          "text": [
            "enter the number 44\n",
            "Hello\n"
          ]
        }
      ]
    },
    {
      "cell_type": "markdown",
      "source": [
        "program 7:if-elif-else"
      ],
      "metadata": {
        "id": "tLK0KwwyMLIB"
      }
    },
    {
      "cell_type": "code",
      "source": [
        "num=int(input(\"Enter a number\"))\n",
        "if num>(10):\n",
        "  print(\"It is small number\")\n",
        "elif num>(20):\n",
        "  print(\"It is medium number\")\n",
        "else:\n",
        "  print(\"It is greator number\")"
      ],
      "metadata": {
        "colab": {
          "base_uri": "https://localhost:8080/"
        },
        "id": "WOP001ybLtwv",
        "outputId": "29d6853c-21df-42d8-c3b5-a597ab5ba438"
      },
      "execution_count": 98,
      "outputs": [
        {
          "output_type": "stream",
          "name": "stdout",
          "text": [
            "Enter a number77\n",
            "It is small number\n"
          ]
        }
      ]
    },
    {
      "cell_type": "markdown",
      "source": [
        "program 8:"
      ],
      "metadata": {
        "id": "3-27mXhtNQQ9"
      }
    },
    {
      "cell_type": "code",
      "source": [
        "num=int(input(\"enter the number\"))\n",
        "if(num % 5==0) and (num % 10!=0):\n",
        "  print(f\"{num} is divisible by 5 but not 10\")\n",
        "else:\n",
        "  print(f\"{num} doesn't satisfy the condition\")"
      ],
      "metadata": {
        "colab": {
          "base_uri": "https://localhost:8080/"
        },
        "id": "y1TGQ0FrNOJf",
        "outputId": "f6611d8b-7519-4784-9e12-45f217428af1"
      },
      "execution_count": 99,
      "outputs": [
        {
          "output_type": "stream",
          "name": "stdout",
          "text": [
            "enter the number60\n",
            "60 doesn't satisfy the condition\n"
          ]
        }
      ]
    },
    {
      "cell_type": "markdown",
      "source": [
        "program 9:"
      ],
      "metadata": {
        "id": "TS9zjnaSO4iq"
      }
    },
    {
      "cell_type": "code",
      "source": [
        "number=int(input(\"Enter the number\"))\n",
        "if 100 <= number <= 200:\n",
        "  print(f\"{number} is between 100 and 200\")\n",
        "else:\n",
        "  print(f\"{number} is not between 100 and 200\")\n",
        ""
      ],
      "metadata": {
        "colab": {
          "base_uri": "https://localhost:8080/"
        },
        "id": "G5o5OeoeO3d_",
        "outputId": "a543f925-cd88-4a89-9e08-cd7b72c3f72e"
      },
      "execution_count": 100,
      "outputs": [
        {
          "output_type": "stream",
          "name": "stdout",
          "text": [
            "Enter the number133\n",
            "133 is between 100 and 200\n"
          ]
        }
      ]
    },
    {
      "cell_type": "markdown",
      "source": [
        "program 10:"
      ],
      "metadata": {
        "id": "Qa-oAOprQwAu"
      }
    },
    {
      "cell_type": "code",
      "source": [
        "num=int(input(\"enter the number\"))\n",
        "if (num > 100) and (num < 500):\n",
        "  print(\"print a message\")\n",
        "else:\n",
        "  print(\"not satisfy the condition\")"
      ],
      "metadata": {
        "colab": {
          "base_uri": "https://localhost:8080/"
        },
        "id": "BJ-N3-JRQAfC",
        "outputId": "7ae67c3b-023e-4ed8-90a1-a72419b59cf7"
      },
      "execution_count": 101,
      "outputs": [
        {
          "output_type": "stream",
          "name": "stdout",
          "text": [
            "enter the number223\n",
            "print a message\n"
          ]
        }
      ]
    },
    {
      "cell_type": "markdown",
      "source": [
        "program 11:"
      ],
      "metadata": {
        "id": "KXiv2DwlRtpe"
      }
    },
    {
      "cell_type": "code",
      "source": [
        "nterms=int(input(\"How many terms\"))\n",
        "if nterms <= 0:\n",
        "  print(\"please enter a positive integer\")\n",
        "elif nterms == 1:\n",
        "  print(\"Fibonacci sequence upto\",nterms,\":\")\n",
        "  print(n1)\n",
        "else:\n",
        "  print(\"Fibonacci sequence:\")\n",
        "  while count < nterms:\n",
        "    print(n1)\n",
        "    nth = n1 + num2\n",
        "    n1 = num2\n",
        "    n2 = nth\n",
        "    count += 1\n"
      ],
      "metadata": {
        "colab": {
          "base_uri": "https://localhost:8080/"
        },
        "id": "dp8hE98wRsih",
        "outputId": "f0d1df67-fbf9-4248-88a4-72e2ad34a3d7"
      },
      "execution_count": 104,
      "outputs": [
        {
          "output_type": "stream",
          "name": "stdout",
          "text": [
            "How many terms4\n",
            "Fibonacci sequence:\n"
          ]
        }
      ]
    },
    {
      "cell_type": "code",
      "source": [
        "for number in range(2,20,30):\n",
        "  print(num)"
      ],
      "metadata": {
        "colab": {
          "base_uri": "https://localhost:8080/"
        },
        "id": "JBpGT8MZVmd5",
        "outputId": "9a809e8a-2c60-4e20-80d7-7d39713d9bb7"
      },
      "execution_count": 105,
      "outputs": [
        {
          "output_type": "stream",
          "name": "stdout",
          "text": [
            "223\n"
          ]
        }
      ]
    }
  ]
}