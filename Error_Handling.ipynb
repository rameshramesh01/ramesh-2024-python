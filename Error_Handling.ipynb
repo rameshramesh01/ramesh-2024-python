{
  "nbformat": 4,
  "nbformat_minor": 0,
  "metadata": {
    "colab": {
      "provenance": []
    },
    "kernelspec": {
      "name": "python3",
      "display_name": "Python 3"
    },
    "language_info": {
      "name": "python"
    }
  },
  "cells": [
    {
      "cell_type": "code",
      "source": [],
      "metadata": {
        "id": "2HuPQL0ZDAVv"
      },
      "execution_count": null,
      "outputs": []
    },
    {
      "cell_type": "code",
      "source": [
        "#Try\n",
        "try:\n",
        "  num=int(input(\"Enter a number:\"))\n",
        "  print(10/num)\n",
        "except ZeroDivisionError:\n",
        "  print(\"You cannot divide by zero.\")\n",
        "except ValueError:\n",
        "  print(\"Invalid input! Please enter a number.\")\n"
      ],
      "metadata": {
        "id": "XYDIgD4T1OUO",
        "colab": {
          "base_uri": "https://localhost:8080/"
        },
        "outputId": "822d3eb0-063e-4ed5-8ed5-ca4d02e5b161"
      },
      "execution_count": null,
      "outputs": [
        {
          "output_type": "stream",
          "name": "stdout",
          "text": [
            "Enter a number:66\n",
            "0.15151515151515152\n"
          ]
        }
      ]
    },
    {
      "cell_type": "code",
      "source": [
        "try:\n",
        "  file=open(\"/content/drive/MyDrive/file/ggg.txt\",\"r\")\n",
        "except FileNotFoundError:\n",
        "  print(\"File not found.\")\n",
        "finally:\n",
        "  print(\"Execution complete.\")"
      ],
      "metadata": {
        "colab": {
          "base_uri": "https://localhost:8080/"
        },
        "id": "raP05rPb9GOH",
        "outputId": "961c7ae1-9397-4c41-da66-46a9f2042ae5"
      },
      "execution_count": null,
      "outputs": [
        {
          "output_type": "stream",
          "name": "stdout",
          "text": [
            "Execution complete.\n"
          ]
        }
      ]
    },
    {
      "cell_type": "code",
      "source": [
        "try:\n",
        "  num=int(input(\"Enter a number:\"))\n",
        "  print(10/num)\n",
        "except ZeroDivisionError:\n",
        "  print(\"you can not divide by zero\")\n",
        "finally:\n",
        "  print(\"Execution complete\")"
      ],
      "metadata": {
        "colab": {
          "base_uri": "https://localhost:8080/"
        },
        "id": "5laEamV4-POJ",
        "outputId": "a58f83dc-3941-4261-e415-e6f76113760c"
      },
      "execution_count": null,
      "outputs": [
        {
          "output_type": "stream",
          "name": "stdout",
          "text": [
            "Enter a number:0\n",
            "you can not divide by zero\n",
            "Execution complete\n"
          ]
        }
      ]
    },
    {
      "cell_type": "code",
      "source": [
        "#Raising Exceptions\n",
        "def check_age(age):\n",
        "  if age<18:\n",
        "    raise ValueError(\"Age must be 18 or older.\")\n",
        "  return True\n",
        "\n",
        "try:\n",
        "  check_age(16)\n",
        "except ValueError as e:\n",
        "  print(e)"
      ],
      "metadata": {
        "colab": {
          "base_uri": "https://localhost:8080/"
        },
        "id": "OYOxKQZ3_QET",
        "outputId": "40015915-ceea-496a-ad51-364451b85bcc"
      },
      "execution_count": null,
      "outputs": [
        {
          "output_type": "stream",
          "name": "stdout",
          "text": [
            "Age must be 18 or older.\n"
          ]
        }
      ]
    }
  ]
}