{
  "nbformat": 4,
  "nbformat_minor": 0,
  "metadata": {
    "colab": {
      "provenance": []
    },
    "kernelspec": {
      "name": "python3",
      "display_name": "Python 3"
    },
    "language_info": {
      "name": "python"
    }
  },
  "cells": [
    {
      "cell_type": "code",
      "execution_count": null,
      "metadata": {
        "id": "GSfEjOkrCX-d"
      },
      "outputs": [],
      "source": []
    },
    {
      "cell_type": "code",
      "source": [
        "#Reading and writing to a file\n",
        "with open(\"/content/drive/MyDrive/file/ggg.txt\",\"w\") as file:\n",
        "  file.write(\"Python is awesome!\\n\")\n"
      ],
      "metadata": {
        "id": "b9V3GKczATIW"
      },
      "execution_count": null,
      "outputs": []
    },
    {
      "cell_type": "code",
      "source": [
        "with open(\"/content/drive/MyDrive/file/ggg.txt\",\"r\") as file:\n",
        "  print(file.read())c"
      ],
      "metadata": {
        "colab": {
          "base_uri": "https://localhost:8080/"
        },
        "id": "gB72MvUNBwd1",
        "outputId": "2d005585-cdca-4f98-e329-ad0fd1515bb6"
      },
      "execution_count": null,
      "outputs": [
        {
          "output_type": "stream",
          "name": "stdout",
          "text": [
            "Python is awesome!\n",
            "\n"
          ]
        }
      ]
    }
  ]
}