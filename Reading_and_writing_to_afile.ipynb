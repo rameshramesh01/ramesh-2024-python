{
  "nbformat": 4,
  "nbformat_minor": 0,
  "metadata": {
    "colab": {
      "provenance": []
    },
    "kernelspec": {
      "name": "python3",
      "display_name": "Python 3"
    },
    "language_info": {
      "name": "python"
    }
  },
  "cells": [
    {
      "cell_type": "code",
      "execution_count": null,
      "metadata": {
        "id": "JvKI-ZwVE0QF"
      },
      "outputs": [],
      "source": []
    },
    {
      "cell_type": "code",
      "source": [
        "#Reading and writing to a file\n",
        "with open(\"/content/drive/MyDrive/file/ggg.txt\",\"w\") as file:\n",
        "  file.write(\"Python is awesome!\\n\")\n"
      ],
      "metadata": {
        "id": "b9V3GKczATIW"
      },
      "execution_count": null,
      "outputs": []
    },
    {
      "cell_type": "code",
      "source": [
        "with open(\"/content/drive/MyDrive/file/ggg.txt\",\"r\") as file:\n",
        "  print(file.read())c"
      ],
      "metadata": {
        "colab": {
          "base_uri": "https://localhost:8080/"
        },
        "id": "gB72MvUNBwd1",
        "outputId": "2d005585-cdca-4f98-e329-ad0fd1515bb6"
      },
      "execution_count": null,
      "outputs": [
        {
          "output_type": "stream",
          "name": "stdout",
          "text": [
            "Python is awesome!\n",
            "\n"
          ]
        }
      ]
    },
    {
      "cell_type": "code",
      "source": [
        "#Appending dat to a file\n",
        "with open(\"/content/drive/MyDrive/file/ggg.txt\",\"a\") as file:\n",
        "  file.write(\"Let's learn file handling.\\n\")"
      ],
      "metadata": {
        "id": "1HBNHBWqDS47"
      },
      "execution_count": null,
      "outputs": []
    },
    {
      "cell_type": "code",
      "source": [
        "with open(\"/content/drive/MyDrive/file/ggg.txt\",\"r\") as file:\n",
        "  print(file.read())"
      ],
      "metadata": {
        "colab": {
          "base_uri": "https://localhost:8080/"
        },
        "id": "NM6a4RulEZc9",
        "outputId": "107604ef-c068-4842-8301-9d471637a244"
      },
      "execution_count": null,
      "outputs": [
        {
          "output_type": "stream",
          "name": "stdout",
          "text": [
            "Python is awesome!\n",
            "Let's learn file handling.\n",
            "\n"
          ]
        }
      ]
    }
  ]
}