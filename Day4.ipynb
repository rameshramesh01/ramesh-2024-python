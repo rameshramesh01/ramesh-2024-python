{
  "nbformat": 4,
  "nbformat_minor": 0,
  "metadata": {
    "colab": {
      "provenance": []
    },
    "kernelspec": {
      "name": "python3",
      "display_name": "Python 3"
    },
    "language_info": {
      "name": "python"
    }
  },
  "cells": [
    {
      "cell_type": "markdown",
      "source": [
        "## **Data structures in python**"
      ],
      "metadata": {
        "id": "b3yVR3GGK4DH"
      }
    },
    {
      "cell_type": "code",
      "source": [
        "#Creating list with same dat types\n",
        "a=[1,2,3,4,5,6,7,8,9,10]\n",
        "print(a)"
      ],
      "metadata": {
        "colab": {
          "base_uri": "https://localhost:8080/"
        },
        "id": "-E_kPJ91LZIn",
        "outputId": "ab59e924-bc92-469b-9282-1a15db2ac69f"
      },
      "execution_count": null,
      "outputs": [
        {
          "output_type": "stream",
          "name": "stdout",
          "text": [
            "[1, 2, 3, 4, 5, 6, 7, 8, 9, 10]\n"
          ]
        }
      ]
    },
    {
      "cell_type": "code",
      "source": [
        "#Creating list with same data types\n",
        "b=(2,3.22,'ramesh')\n",
        "print(b)"
      ],
      "metadata": {
        "colab": {
          "base_uri": "https://localhost:8080/"
        },
        "id": "NmMSjksIMH47",
        "outputId": "5198e331-a58f-4616-e976-b78f0022b6da"
      },
      "execution_count": null,
      "outputs": [
        {
          "output_type": "stream",
          "name": "stdout",
          "text": [
            "(2, 3.22, 'ramesh')\n"
          ]
        }
      ]
    },
    {
      "cell_type": "code",
      "source": [
        "#Creating list with same data types\n",
        "b=(2,3.22)\n",
        "b"
      ],
      "metadata": {
        "colab": {
          "base_uri": "https://localhost:8080/"
        },
        "id": "TerJHQmkbaYe",
        "outputId": "7a2402b3-f19a-4da3-d7da-29e59cda027b"
      },
      "execution_count": null,
      "outputs": [
        {
          "output_type": "execute_result",
          "data": {
            "text/plain": [
              "(2, 3.22)"
            ]
          },
          "metadata": {},
          "execution_count": 36
        }
      ]
    },
    {
      "cell_type": "code",
      "source": [
        "print(a[9])\n",
        "print(b[-1])"
      ],
      "metadata": {
        "colab": {
          "base_uri": "https://localhost:8080/"
        },
        "id": "7ZjOy_6kN3V5",
        "outputId": "183ecea6-1950-4a6a-ab79-e89fd780f3d6"
      },
      "execution_count": null,
      "outputs": [
        {
          "output_type": "stream",
          "name": "stdout",
          "text": [
            "10\n",
            "ramesh\n"
          ]
        }
      ]
    },
    {
      "cell_type": "markdown",
      "source": [
        "**List operations accessing items**"
      ],
      "metadata": {
        "id": "bmfmQol0ejHH"
      }
    },
    {
      "cell_type": "code",
      "source": [
        "print(a[8])\n",
        "print(b[0])"
      ],
      "metadata": {
        "colab": {
          "base_uri": "https://localhost:8080/"
        },
        "id": "9XtfuB2ieWo_",
        "outputId": "306dc5ff-c921-4f79-da98-e071e6bfebbd"
      },
      "execution_count": null,
      "outputs": [
        {
          "output_type": "stream",
          "name": "stdout",
          "text": [
            "7\n",
            "2\n"
          ]
        }
      ]
    },
    {
      "cell_type": "markdown",
      "source": [
        "**Modifying items**"
      ],
      "metadata": {
        "id": "eRTYGDVuONRu"
      }
    },
    {
      "cell_type": "code",
      "source": [
        " a[0]=10\n",
        " print(a)"
      ],
      "metadata": {
        "colab": {
          "base_uri": "https://localhost:8080/"
        },
        "id": "wgzhq51eOSrO",
        "outputId": "df35da21-e08f-434b-a76c-3c7569ae355c"
      },
      "execution_count": null,
      "outputs": [
        {
          "output_type": "stream",
          "name": "stdout",
          "text": [
            "[10, 11, 2, 11, 4, 6, 7, 8, 9, 10, 11, 11]\n"
          ]
        }
      ]
    },
    {
      "cell_type": "code",
      "source": [
        "a[0]=10\n",
        "a"
      ],
      "metadata": {
        "colab": {
          "base_uri": "https://localhost:8080/"
        },
        "id": "CqwTf0YZZ0sh",
        "outputId": "0c835938-e5e0-449f-e587-2df28ae7d93d"
      },
      "execution_count": null,
      "outputs": [
        {
          "output_type": "execute_result",
          "data": {
            "text/plain": [
              "[10, 2, 3, 4, 5, 6, 7, 8, 9, 10]"
            ]
          },
          "metadata": {},
          "execution_count": 28
        }
      ]
    },
    {
      "cell_type": "code",
      "source": [
        "c=[43,56,76]\n",
        "c"
      ],
      "metadata": {
        "colab": {
          "base_uri": "https://localhost:8080/"
        },
        "id": "otoAEjDecNU9",
        "outputId": "10168704-d623-4a51-a452-91e7e3011b32"
      },
      "execution_count": null,
      "outputs": [
        {
          "output_type": "execute_result",
          "data": {
            "text/plain": [
              "[43, 56, 76]"
            ]
          },
          "metadata": {},
          "execution_count": 39
        }
      ]
    },
    {
      "cell_type": "code",
      "source": [
        "c[1]=66\n",
        "c"
      ],
      "metadata": {
        "colab": {
          "base_uri": "https://localhost:8080/"
        },
        "id": "tBnL9wIkcdKh",
        "outputId": "cd81498f-a08a-41be-fb80-d38b91ceefff"
      },
      "execution_count": null,
      "outputs": [
        {
          "output_type": "execute_result",
          "data": {
            "text/plain": [
              "[43, 66, 76]"
            ]
          },
          "metadata": {},
          "execution_count": 42
        }
      ]
    },
    {
      "cell_type": "markdown",
      "source": [
        "**Adding items**"
      ],
      "metadata": {
        "id": "Fp8TSfYDdus_"
      }
    },
    {
      "cell_type": "code",
      "source": [
        "\n",
        "a.append(11)\n",
        "a"
      ],
      "metadata": {
        "colab": {
          "base_uri": "https://localhost:8080/"
        },
        "id": "EaZiwCmPcurm",
        "outputId": "78a460b9-35c9-4b65-f4d4-b3df0e9b12aa"
      },
      "execution_count": null,
      "outputs": [
        {
          "output_type": "execute_result",
          "data": {
            "text/plain": [
              "[10, 11, 2, 11, 11, 3, 4, 6, 7, 8, 9, 10, 11, 11]"
            ]
          },
          "metadata": {},
          "execution_count": 53
        }
      ]
    },
    {
      "cell_type": "code",
      "source": [
        "a.insert(3,11)\n",
        "a"
      ],
      "metadata": {
        "colab": {
          "base_uri": "https://localhost:8080/"
        },
        "id": "H10cTD_cdSye",
        "outputId": "4a5c5c33-0baa-456c-b6d6-137c372d1b0f"
      },
      "execution_count": null,
      "outputs": [
        {
          "output_type": "execute_result",
          "data": {
            "text/plain": [
              "[10, 11, 2, 11, 11, 3, 4, 6, 7, 8, 9, 10, 11]"
            ]
          },
          "metadata": {},
          "execution_count": 51
        }
      ]
    },
    {
      "cell_type": "markdown",
      "source": [
        "**Removing items**"
      ],
      "metadata": {
        "id": "r0NDywZjd1xN"
      }
    },
    {
      "cell_type": "code",
      "source": [
        "a.remove(5)\n",
        "a"
      ],
      "metadata": {
        "colab": {
          "base_uri": "https://localhost:8080/"
        },
        "id": "vf9yIh5DdiHn",
        "outputId": "cb2dd33f-280e-49e3-c427-c1138d28ee07"
      },
      "execution_count": null,
      "outputs": [
        {
          "output_type": "execute_result",
          "data": {
            "text/plain": [
              "[10, 11, 2, 11, 3, 4, 6, 7, 8, 9, 10, 11]"
            ]
          },
          "metadata": {},
          "execution_count": 49
        }
      ]
    },
    {
      "cell_type": "code",
      "source": [
        "#pop()\n",
        "a.pop(4)\n",
        "a"
      ],
      "metadata": {
        "colab": {
          "base_uri": "https://localhost:8080/"
        },
        "id": "zUtLjTQ-e2Sd",
        "outputId": "3498e1d0-32ba-4798-851e-0cccb7d9aedf"
      },
      "execution_count": null,
      "outputs": [
        {
          "output_type": "execute_result",
          "data": {
            "text/plain": [
              "[10, 11, 2, 11, 4, 6, 7, 8, 9, 10, 11, 11]"
            ]
          },
          "metadata": {},
          "execution_count": 63
        }
      ]
    },
    {
      "cell_type": "markdown",
      "source": [
        "**Other operations**"
      ],
      "metadata": {
        "id": "vjXMO8P2h_AO"
      }
    },
    {
      "cell_type": "code",
      "source": [
        "len(a)"
      ],
      "metadata": {
        "colab": {
          "base_uri": "https://localhost:8080/"
        },
        "id": "uhwUFY1_hNqG",
        "outputId": "16f2d975-1abd-44e8-9210-1e68d3b23bbe"
      },
      "execution_count": null,
      "outputs": [
        {
          "output_type": "execute_result",
          "data": {
            "text/plain": [
              "13"
            ]
          },
          "metadata": {},
          "execution_count": 57
        }
      ]
    },
    {
      "cell_type": "code",
      "source": [
        "sorted(a)\n"
      ],
      "metadata": {
        "colab": {
          "base_uri": "https://localhost:8080/"
        },
        "id": "Z_YO3gbtiDZf",
        "outputId": "c25357af-c25c-4f19-d24c-7831d8286ea9"
      },
      "execution_count": null,
      "outputs": [
        {
          "output_type": "execute_result",
          "data": {
            "text/plain": [
              "[2, 4, 6, 7, 8, 9, 10, 10, 11, 11, 11, 11]"
            ]
          },
          "metadata": {},
          "execution_count": 69
        }
      ]
    },
    {
      "cell_type": "code",
      "source": [
        "reversed(a)\n",
        "a"
      ],
      "metadata": {
        "colab": {
          "base_uri": "https://localhost:8080/"
        },
        "id": "J5kF7LShi1-i",
        "outputId": "5f9c59f0-2356-4a4e-9f19-637d5f6567a5"
      },
      "execution_count": null,
      "outputs": [
        {
          "output_type": "execute_result",
          "data": {
            "text/plain": [
              "[10, 11, 2, 11, 4, 6, 7, 8, 9, 10, 11, 11]"
            ]
          },
          "metadata": {},
          "execution_count": 72
        }
      ]
    },
    {
      "cell_type": "markdown",
      "source": [
        "**Iterating through a list**"
      ],
      "metadata": {
        "id": "9c-xRPOdjgPL"
      }
    },
    {
      "cell_type": "code",
      "source": [
        "for a in range (1,10):\n",
        "  print(a)"
      ],
      "metadata": {
        "colab": {
          "base_uri": "https://localhost:8080/"
        },
        "id": "y4j_JKeKjniU",
        "outputId": "b1777f89-891f-49b5-d6aa-dfe3a8f02573"
      },
      "execution_count": null,
      "outputs": [
        {
          "output_type": "stream",
          "name": "stdout",
          "text": [
            "1\n",
            "2\n",
            "3\n",
            "4\n",
            "5\n",
            "6\n",
            "7\n",
            "8\n",
            "9\n"
          ]
        }
      ]
    },
    {
      "cell_type": "markdown",
      "source": [
        "## **Tuples**"
      ],
      "metadata": {
        "id": "ihJLVD4wm16c"
      }
    },
    {
      "cell_type": "markdown",
      "source": [
        "**Creating a tuples**"
      ],
      "metadata": {
        "id": "kllL77srm92i"
      }
    },
    {
      "cell_type": "code",
      "source": [
        "a=(77,88,63)\n",
        "a"
      ],
      "metadata": {
        "colab": {
          "base_uri": "https://localhost:8080/"
        },
        "id": "NzeHT0gEm0_E",
        "outputId": "c7f169d8-e104-4cd1-ecc7-9f56fe3d8d69"
      },
      "execution_count": null,
      "outputs": [
        {
          "output_type": "execute_result",
          "data": {
            "text/plain": [
              "(77, 88, 63)"
            ]
          },
          "metadata": {},
          "execution_count": 90
        }
      ]
    },
    {
      "cell_type": "markdown",
      "source": [
        "**Accessing items in a tuple**"
      ],
      "metadata": {
        "id": "zRDSudNToiTi"
      }
    },
    {
      "cell_type": "code",
      "source": [
        "print(a[0])\n",
        "print(a[-1])\n",
        "print(a[2])\n"
      ],
      "metadata": {
        "colab": {
          "base_uri": "https://localhost:8080/"
        },
        "id": "Fswo9JwKnTMQ",
        "outputId": "87ccbce9-e04d-4199-eb1c-edb2132e4429"
      },
      "execution_count": null,
      "outputs": [
        {
          "output_type": "stream",
          "name": "stdout",
          "text": [
            "77\n",
            "63\n",
            "63\n"
          ]
        }
      ]
    },
    {
      "cell_type": "markdown",
      "source": [
        "## **Dictionary**"
      ],
      "metadata": {
        "id": "aEcVACmEo8ld"
      }
    },
    {
      "cell_type": "markdown",
      "source": [
        "**Creating a dictionary**"
      ],
      "metadata": {
        "id": "kHfPl28PpGE0"
      }
    },
    {
      "cell_type": "code",
      "source": [
        "from ast import Name\n",
        "student={\n",
        "    \"name\":\"Ramesh\",\n",
        "    \"age\":20,\n",
        "    \"marks\":87\n",
        "}\n",
        "student"
      ],
      "metadata": {
        "colab": {
          "base_uri": "https://localhost:8080/"
        },
        "id": "k4OhD-UipEAT",
        "outputId": "4c4b5a84-b067-4a01-c0d1-237c7e4e5c36"
      },
      "execution_count": null,
      "outputs": [
        {
          "output_type": "execute_result",
          "data": {
            "text/plain": [
              "{'name': 'Ramesh', 'age': 20, 'marks': 87}"
            ]
          },
          "metadata": {},
          "execution_count": 93
        }
      ]
    },
    {
      "cell_type": "code",
      "source": [
        "#Accessing\n",
        "print(student[\"name\"])\n",
        "print(student)"
      ],
      "metadata": {
        "colab": {
          "base_uri": "https://localhost:8080/"
        },
        "id": "fWa85a71qI0g",
        "outputId": "478de512-a32b-4470-9153-222f5e259f95"
      },
      "execution_count": null,
      "outputs": [
        {
          "output_type": "stream",
          "name": "stdout",
          "text": [
            "Ramesh\n",
            "{'name': 'Ramesh', 'age': 22}\n"
          ]
        }
      ]
    },
    {
      "cell_type": "code",
      "source": [
        "#Modifying\n",
        "student[\"age\"] = 22\n",
        "print(student)"
      ],
      "metadata": {
        "colab": {
          "base_uri": "https://localhost:8080/"
        },
        "id": "7mOEyxvyqWdT",
        "outputId": "22d6d53c-af4c-4145-eac8-67d1b702c86c"
      },
      "execution_count": null,
      "outputs": [
        {
          "output_type": "stream",
          "name": "stdout",
          "text": [
            "{'name': 'Ramesh', 'age': 22}\n"
          ]
        }
      ]
    },
    {
      "cell_type": "code",
      "source": [
        "#Removing\n",
        "del student[\"age\"]\n",
        "print(student)"
      ],
      "metadata": {
        "colab": {
          "base_uri": "https://localhost:8080/"
        },
        "id": "D1tqLA9tqh4q",
        "outputId": "1497ef65-2e1f-48dd-8cfb-99384a06fbca"
      },
      "execution_count": null,
      "outputs": [
        {
          "output_type": "stream",
          "name": "stdout",
          "text": [
            "{'name': 'Ramesh'}\n"
          ]
        }
      ]
    },
    {
      "cell_type": "markdown",
      "source": [
        "**Iterating through a dictionary**"
      ],
      "metadata": {
        "id": "TEzqXoLFrv3T"
      }
    },
    {
      "cell_type": "code",
      "source": [
        "for key, value in student.items():\n",
        "  print(key,value)"
      ],
      "metadata": {
        "colab": {
          "base_uri": "https://localhost:8080/"
        },
        "id": "97YRQ3E3r3BP",
        "outputId": "397441e1-c610-4d21-aadb-fe8e5728d8b7"
      },
      "execution_count": null,
      "outputs": [
        {
          "output_type": "stream",
          "name": "stdout",
          "text": [
            "name Ramesh\n"
          ]
        }
      ]
    },
    {
      "cell_type": "markdown",
      "source": [
        "# **Sets**"
      ],
      "metadata": {
        "id": "Ma8HrQ06sECS"
      }
    },
    {
      "cell_type": "code",
      "source": [
        "num = {1,2,3,4,5,6,7,8,9,10}\n",
        "print(num)"
      ],
      "metadata": {
        "colab": {
          "base_uri": "https://localhost:8080/"
        },
        "id": "MxPMDZlpsIpC",
        "outputId": "6e6a573b-98c8-4630-f0e2-24c83927bbac"
      },
      "execution_count": null,
      "outputs": [
        {
          "output_type": "stream",
          "name": "stdout",
          "text": [
            "{1, 2, 3, 4, 5, 6, 7, 8, 9, 10}\n"
          ]
        }
      ]
    },
    {
      "cell_type": "code",
      "source": [
        "num.add(88)\n",
        "print(num)"
      ],
      "metadata": {
        "colab": {
          "base_uri": "https://localhost:8080/"
        },
        "id": "kzV_D6H0sWoV",
        "outputId": "e868aa24-c95b-4e60-e024-01881a419adf"
      },
      "execution_count": null,
      "outputs": [
        {
          "output_type": "stream",
          "name": "stdout",
          "text": [
            "{1, 2, 3, 4, 5, 6, 7, 8, 9, 10, 88}\n"
          ]
        }
      ]
    },
    {
      "cell_type": "code",
      "source": [
        "num.remove(7)\n",
        "print(num)"
      ],
      "metadata": {
        "colab": {
          "base_uri": "https://localhost:8080/"
        },
        "id": "P-WQil9bsfIK",
        "outputId": "5225e8f0-6a69-468a-adf3-2c2548780e33"
      },
      "execution_count": null,
      "outputs": [
        {
          "output_type": "stream",
          "name": "stdout",
          "text": [
            "{1, 2, 3, 4, 5, 6, 8, 9, 10, 88}\n"
          ]
        }
      ]
    },
    {
      "cell_type": "markdown",
      "source": [
        "**Set Operations**"
      ],
      "metadata": {
        "id": "R_BVVXXRsuve"
      }
    },
    {
      "cell_type": "code",
      "source": [
        "a={1,2,3,4,5,6,}\n",
        "b={6,77,88,33}\n",
        "#union\n",
        "print(a|b)"
      ],
      "metadata": {
        "colab": {
          "base_uri": "https://localhost:8080/"
        },
        "id": "rDhOrofest2i",
        "outputId": "44c6b9c9-cc0e-4591-c23c-92ce14ec19b2"
      },
      "execution_count": null,
      "outputs": [
        {
          "output_type": "stream",
          "name": "stdout",
          "text": [
            "{1, 2, 3, 4, 5, 6, 33, 77, 88}\n"
          ]
        }
      ]
    },
    {
      "cell_type": "code",
      "source": [
        "print(a.union(b))"
      ],
      "metadata": {
        "colab": {
          "base_uri": "https://localhost:8080/"
        },
        "id": "v4iNvXystwIj",
        "outputId": "9203b8cd-9b08-4aac-a046-7aa024088089"
      },
      "execution_count": null,
      "outputs": [
        {
          "output_type": "stream",
          "name": "stdout",
          "text": [
            "{1, 2, 3, 4, 5, 6, 33, 77, 88}\n"
          ]
        }
      ]
    },
    {
      "cell_type": "code",
      "source": [
        "#Intersection\n",
        "print(a&b)"
      ],
      "metadata": {
        "colab": {
          "base_uri": "https://localhost:8080/"
        },
        "id": "16uCfZgit9wO",
        "outputId": "77dbc8c2-8d94-47d6-c3b5-c8215f1f23b6"
      },
      "execution_count": null,
      "outputs": [
        {
          "output_type": "stream",
          "name": "stdout",
          "text": [
            "{6}\n"
          ]
        }
      ]
    },
    {
      "cell_type": "code",
      "source": [
        "#Difference\n",
        "print(a-b)"
      ],
      "metadata": {
        "colab": {
          "base_uri": "https://localhost:8080/"
        },
        "id": "s2PZwpwQuMjC",
        "outputId": "446fd632-6969-4106-d0ec-0d90a0c7fd4d"
      },
      "execution_count": null,
      "outputs": [
        {
          "output_type": "stream",
          "name": "stdout",
          "text": [
            "{1, 2, 3, 4, 5}\n"
          ]
        }
      ]
    },
    {
      "cell_type": "markdown",
      "source": [
        "# **Hands-on practise**"
      ],
      "metadata": {
        "id": "2dseFW78uYJc"
      }
    },
    {
      "cell_type": "markdown",
      "source": [
        "**Manipulating lists**"
      ],
      "metadata": {
        "id": "9_EVCK_2ud7S"
      }
    },
    {
      "cell_type": "code",
      "source": [
        "fruits=[\"apple\",\"cherry\",\"banana\",\"mango\",\"orange\"]\n",
        "fruits.append(\"banana\")\n",
        "fruits.remove(\"apple\")\n",
        "fruits"
      ],
      "metadata": {
        "colab": {
          "base_uri": "https://localhost:8080/"
        },
        "id": "beb6i2uMuXNE",
        "outputId": "9d8e2fff-fc1a-498e-8338-020a14ace851"
      },
      "execution_count": null,
      "outputs": [
        {
          "output_type": "execute_result",
          "data": {
            "text/plain": [
              "['cherry', 'banana', 'mango', 'orange', 'banana']"
            ]
          },
          "metadata": {},
          "execution_count": 130
        }
      ]
    },
    {
      "cell_type": "markdown",
      "source": [
        "**Creating a dictionary**"
      ],
      "metadata": {
        "id": "_jucIUuSvs-b"
      }
    },
    {
      "cell_type": "code",
      "source": [
        "book={\n",
        "    \"title\":\"Python programming\",\n",
        "    \"author\":\"John Doe\",\n",
        "    \"year\":2021\n",
        "}\n",
        "print(book[\"title\"])\n",
        "book[\"year\"]=2021\n",
        "print(book)"
      ],
      "metadata": {
        "colab": {
          "base_uri": "https://localhost:8080/"
        },
        "id": "KKlxBD_ovsXU",
        "outputId": "0e5e8a48-9e1e-4891-bae2-19b16d344520"
      },
      "execution_count": null,
      "outputs": [
        {
          "output_type": "stream",
          "name": "stdout",
          "text": [
            "Python programming\n",
            "{'title': 'Python programming', 'author': 'John Doe', 'year': 2021}\n"
          ]
        }
      ]
    },
    {
      "cell_type": "markdown",
      "source": [
        "**Working with sets**"
      ],
      "metadata": {
        "id": "W6SbL9etw0vs"
      }
    },
    {
      "cell_type": "code",
      "source": [
        "num1={1,2,3,5}\n",
        "num2={4,66,7,8}\n",
        "print(a|b)\n",
        "print(a&b)\n",
        "print(a-b)"
      ],
      "metadata": {
        "colab": {
          "base_uri": "https://localhost:8080/"
        },
        "id": "xqrMOlHVw5Js",
        "outputId": "9c4e824c-1ce9-4f99-fc28-a7b4bc325a0b"
      },
      "execution_count": null,
      "outputs": [
        {
          "output_type": "stream",
          "name": "stdout",
          "text": [
            "{1, 2, 3, 4, 5, 6, 33, 77, 88}\n",
            "{6}\n",
            "{1, 2, 3, 4, 5}\n"
          ]
        }
      ]
    },
    {
      "cell_type": "markdown",
      "source": [
        "# **Problem solved**"
      ],
      "metadata": {
        "id": "eHA30UsSxUMH"
      }
    },
    {
      "cell_type": "markdown",
      "source": [
        "**Merge two lists**"
      ],
      "metadata": {
        "id": "3f82irEYxakC"
      }
    },
    {
      "cell_type": "code",
      "source": [
        "list1=[1,2,3,4,5]\n",
        "list2=[6,77,88,5,3]\n",
        "merged_list=list1+list2\n",
        "print(merged_list)"
      ],
      "metadata": {
        "colab": {
          "base_uri": "https://localhost:8080/"
        },
        "id": "TaP4WfwLxTM6",
        "outputId": "b9c81065-4403-498e-eb06-1a5920a1910c"
      },
      "execution_count": null,
      "outputs": [
        {
          "output_type": "stream",
          "name": "stdout",
          "text": [
            "[1, 2, 3, 4, 5, 6, 77, 88, 5, 3]\n"
          ]
        }
      ]
    },
    {
      "cell_type": "markdown",
      "source": [
        "**Dictionary operations**"
      ],
      "metadata": {
        "id": "bpAXALsxyT5W"
      }
    },
    {
      "cell_type": "code",
      "source": [
        "student={\"name\":\"Boo\",\"age\":20,\"marks\":97}\n",
        "print(\"name:\",student[\"name\"])\n",
        "student[\"marks\"]=100\n",
        "print(\"Updated marks:\",student[\"marks\"])"
      ],
      "metadata": {
        "colab": {
          "base_uri": "https://localhost:8080/"
        },
        "id": "199yiBWuyYj0",
        "outputId": "fa8a05fe-b5a5-4c0f-fd43-0528a49a37fd"
      },
      "execution_count": null,
      "outputs": [
        {
          "output_type": "stream",
          "name": "stdout",
          "text": [
            "name: Boo\n",
            "Updated marks: 100\n"
          ]
        }
      ]
    },
    {
      "cell_type": "markdown",
      "source": [
        "**Find the maximum and minimum in a list**"
      ],
      "metadata": {
        "id": "fOxlyLiizL_R"
      }
    },
    {
      "cell_type": "code",
      "source": [
        "numbers=[12,33,44,55,74]\n",
        "print(\"maximum:\",max(numbers))\n",
        "print(\"minimum:\",min(numbers))"
      ],
      "metadata": {
        "colab": {
          "base_uri": "https://localhost:8080/"
        },
        "id": "rksHugyFzVUy",
        "outputId": "bbf03e23-d937-44a3-e469-272d0bc5f66e"
      },
      "execution_count": null,
      "outputs": [
        {
          "output_type": "stream",
          "name": "stdout",
          "text": [
            "maximum: 74\n",
            "minimum: 12\n"
          ]
        }
      ]
    },
    {
      "cell_type": "markdown",
      "source": [
        "**Count frequency of elements in a list**"
      ],
      "metadata": {
        "id": "CfOLSFHvz52i"
      }
    },
    {
      "cell_type": "code",
      "source": [
        "numbers=[11,33,4,66,8,]\n",
        "frequency={}\n",
        "for num in numbers:\n",
        "  frequency[num]=frequency.get(num,0)+1\n",
        "print(\"frequency of elements:\",frequency)"
      ],
      "metadata": {
        "colab": {
          "base_uri": "https://localhost:8080/"
        },
        "id": "13nfnxE90Cwf",
        "outputId": "4b180d70-14d5-424c-9f59-2f322474edad"
      },
      "execution_count": null,
      "outputs": [
        {
          "output_type": "stream",
          "name": "stdout",
          "text": [
            "frequency of elements: {11: 1, 33: 1, 4: 1, 66: 1, 8: 1}\n"
          ]
        }
      ]
    },
    {
      "cell_type": "markdown",
      "source": [
        "**Sort a list of tuples by the second element**"
      ],
      "metadata": {
        "id": "Pu0FU06y6J4Q"
      }
    },
    {
      "cell_type": "code",
      "source": [
        "tuples=[(1,'apple'),(2,'banana'),(3,'cherry')]\n",
        "sorted_tuples=sorted(tuples,key=lambda x:x[1])\n",
        "print(\"Sorted tuples:\",sorted_tuples)\n"
      ],
      "metadata": {
        "colab": {
          "base_uri": "https://localhost:8080/"
        },
        "id": "64oCCFqr6VqD",
        "outputId": "139fa70b-1bac-43a9-fafb-57640aa1f1e2"
      },
      "execution_count": null,
      "outputs": [
        {
          "output_type": "stream",
          "name": "stdout",
          "text": [
            "Sorted tuples: [(1, 'apple'), (2, 'banana'), (3, 'cherry')]\n"
          ]
        }
      ]
    },
    {
      "cell_type": "markdown",
      "source": [
        "## **Palindrome number**"
      ],
      "metadata": {
        "id": "0w6ShjDG42Vm"
      }
    },
    {
      "cell_type": "code",
      "source": [
        "number = int(input(\"Enter a number\"))\n",
        "reverse_number = 0\n",
        "temp = number\n",
        "while temp > 0:\n",
        "  digit = temp % 10\n",
        "  reverse_number = reverse_number * 10 + digit\n",
        "  temp = temp // 10\n",
        "\n",
        "if number == reverse_number:\n",
        "  print(\"The number is a palindrome\")\n",
        "else:\n",
        "  print(\"The number is not a palindrome\")"
      ],
      "metadata": {
        "id": "DlDaqXOU3lFS",
        "colab": {
          "base_uri": "https://localhost:8080/"
        },
        "outputId": "d57caaff-f26b-4c51-9cbf-006bb4f94ffd"
      },
      "execution_count": 152,
      "outputs": [
        {
          "output_type": "stream",
          "name": "stdout",
          "text": [
            "Enter a number121\n",
            "The number is a palindrome\n"
          ]
        }
      ]
    },
    {
      "cell_type": "code",
      "source": [
        "#palindrome 2\n",
        "number = input(\"Enter a number\")\n",
        "if number == number[::-1]:\n",
        " print(\"The number is a palindrome\")\n",
        "else:\n",
        " print(\"The number is not a palindrome\")"
      ],
      "metadata": {
        "colab": {
          "base_uri": "https://localhost:8080/"
        },
        "id": "5AY60xcfmdon",
        "outputId": "5b85e2b0-9c3c-4232-a775-7c9dcf81baf9"
      },
      "execution_count": 166,
      "outputs": [
        {
          "output_type": "stream",
          "name": "stdout",
          "text": [
            "Enter a numbersos\n",
            "The number is a palindrome\n"
          ]
        }
      ]
    },
    {
      "cell_type": "code",
      "source": [
        "\n",
        "class Solution(object):\n",
        "   def isPalindrome(self, x):\n",
        "      if x < 0 or (x % 10 == 0 and x != 0):\n",
        "         return False\n",
        "      reverse = 0\n",
        "      while x > reverse:\n",
        "         reverse = reverse * 10 + x % 10\n",
        "         x //= 10\n",
        "      return x == reverse or x == reverse // 10\n",
        "solution = Solution()\n",
        "print(solution.isPalindrome(121))\n",
        "print(solution.isPalindrome(-121))\n",
        "print(solution.isPalindrome(10))\n",
        "print(solution.isPalindrome(0))"
      ],
      "metadata": {
        "colab": {
          "base_uri": "https://localhost:8080/"
        },
        "id": "WzoNCVlYlWxx",
        "outputId": "1baaea39-bfba-434a-9bc4-a4ff87d07758"
      },
      "execution_count": 164,
      "outputs": [
        {
          "output_type": "stream",
          "name": "stdout",
          "text": [
            "True\n",
            "False\n",
            "False\n",
            "True\n"
          ]
        }
      ]
    },
    {
      "cell_type": "code",
      "source": [
        "import pprint\n",
        "data = {\"name\": \"Alice\", \"subjects\": [\"Math\", \"Science\"], \"grades\": {\"Math\": \"A\",\n",
        "\"Science\": \"B\"}}\n",
        "pprint.pprint(data)"
      ],
      "metadata": {
        "colab": {
          "base_uri": "https://localhost:8080/"
        },
        "id": "bfJrS-lGlMHq",
        "outputId": "0ef0fa54-d1b9-4e8d-e574-ad00043996f1"
      },
      "execution_count": 165,
      "outputs": [
        {
          "output_type": "stream",
          "name": "stdout",
          "text": [
            "{'grades': {'Math': 'A', 'Science': 'B'},\n",
            " 'name': 'Alice',\n",
            " 'subjects': ['Math', 'Science']}\n"
          ]
        }
      ]
    },
    {
      "cell_type": "code",
      "source": [
        "original = [1, 2, 3]\n",
        "copy = original\n",
        "copy[0] = 99\n",
        "print(original)"
      ],
      "metadata": {
        "colab": {
          "base_uri": "https://localhost:8080/"
        },
        "id": "VPtVie8yn0TY",
        "outputId": "c935ff62-53df-46f4-8756-dee727835c11"
      },
      "execution_count": 167,
      "outputs": [
        {
          "output_type": "stream",
          "name": "stdout",
          "text": [
            "[99, 2, 3]\n"
          ]
        }
      ]
    },
    {
      "cell_type": "code",
      "source": [
        "colors = ['red', 'blue', 'green', 'blue']\n",
        "print(colors.index('blue'))\n",
        "print(colors.count('blue'))"
      ],
      "metadata": {
        "colab": {
          "base_uri": "https://localhost:8080/"
        },
        "id": "r_20YFm9n-Ju",
        "outputId": "b6d6557a-79bc-49f3-8417-2fc1cedc460f"
      },
      "execution_count": 168,
      "outputs": [
        {
          "output_type": "stream",
          "name": "stdout",
          "text": [
            "1\n",
            "2\n"
          ]
        }
      ]
    }
  ]
}