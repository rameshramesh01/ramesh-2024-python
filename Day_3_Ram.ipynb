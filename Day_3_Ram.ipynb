{
  "nbformat": 4,
  "nbformat_minor": 0,
  "metadata": {
    "colab": {
      "provenance": []
    },
    "kernelspec": {
      "name": "python3",
      "display_name": "Python 3"
    },
    "language_info": {
      "name": "python"
    }
  },
  "cells": [
    {
      "cell_type": "markdown",
      "source": [
        "**Functions and Module**"
      ],
      "metadata": {
        "id": "7BYqdn-veo9s"
      }
    },
    {
      "cell_type": "code",
      "source": [
        "def greet(name):\n",
        "  print(\"helo,\"+name+\"!\")\n",
        "greet(\"alice\")"
      ],
      "metadata": {
        "colab": {
          "base_uri": "https://localhost:8080/"
        },
        "id": "hKN98XkeetNU",
        "outputId": "a3574e25-59e0-4066-851e-40f1a559f48e"
      },
      "execution_count": null,
      "outputs": [
        {
          "output_type": "stream",
          "name": "stdout",
          "text": [
            "helo,alice!\n"
          ]
        }
      ]
    },
    {
      "cell_type": "markdown",
      "source": [
        "## **FUNCTIONAL** **ARGUMENTS**"
      ],
      "metadata": {
        "id": "ytdFK3JQfnzf"
      }
    },
    {
      "cell_type": "markdown",
      "source": [
        "**Positional arguments**"
      ],
      "metadata": {
        "id": "LzaPDOQUfgcv"
      }
    },
    {
      "cell_type": "code",
      "source": [
        "def add(a, b):\n",
        "  return a + b\n",
        "print(add(6, 8))"
      ],
      "metadata": {
        "colab": {
          "base_uri": "https://localhost:8080/"
        },
        "id": "egHH5yvqfeYX",
        "outputId": "5b7cc9de-521a-4271-b323-bcd678ef7ffa"
      },
      "execution_count": null,
      "outputs": [
        {
          "output_type": "stream",
          "name": "stdout",
          "text": [
            "14\n"
          ]
        }
      ]
    },
    {
      "cell_type": "markdown",
      "source": [
        "**Keyword arguments**"
      ],
      "metadata": {
        "id": "6v7qbPbFj2TY"
      }
    },
    {
      "cell_type": "code",
      "source": [
        "def greet(name, message):\n",
        "  print(message +\",\" +name + \"!\")\n",
        "greet(name=\"alice\",message=\"good morning\")"
      ],
      "metadata": {
        "colab": {
          "base_uri": "https://localhost:8080/"
        },
        "id": "YfsuopGLgUPn",
        "outputId": "cb8a5a32-f093-4fe8-df9f-347d56c5d627"
      },
      "execution_count": null,
      "outputs": [
        {
          "output_type": "stream",
          "name": "stdout",
          "text": [
            "good morning,alice!\n"
          ]
        }
      ]
    },
    {
      "cell_type": "code",
      "source": [
        "#default Arguments\n",
        "def greet(name, message=\"Hello\"):\n",
        "  print(message + \",\" + name + \"!\")\n",
        "greet(\"Alice\")\n",
        "greet(\"Bob\", \"Hi\")"
      ],
      "metadata": {
        "colab": {
          "base_uri": "https://localhost:8080/"
        },
        "id": "he57iwU1hLld",
        "outputId": "db6256d2-f184-4cce-90e2-e723d7589425"
      },
      "execution_count": null,
      "outputs": [
        {
          "output_type": "stream",
          "name": "stdout",
          "text": [
            "Hello,Alice!\n",
            "Hi,Bob!\n"
          ]
        }
      ]
    },
    {
      "cell_type": "code",
      "source": [
        "# Variable length argument\n",
        "def sum_numbers(*numbers):\n",
        "  return sum(numbers)\n",
        "print(sum_numbers(1,2,3,4))"
      ],
      "metadata": {
        "colab": {
          "base_uri": "https://localhost:8080/"
        },
        "collapsed": true,
        "id": "gE7vpjMwh70I",
        "outputId": "c29a4f53-6da2-4130-bc5a-bc69daa46793"
      },
      "execution_count": null,
      "outputs": [
        {
          "output_type": "stream",
          "name": "stdout",
          "text": [
            "10\n"
          ]
        }
      ]
    },
    {
      "cell_type": "code",
      "source": [
        "def Ramesh(**kwargs):\n",
        "  for key, value in kwargs.items():\n",
        "    print(f\"{key}: {value}\")\n",
        "Ramesh(name=\"Ramesh\", age=\"25\", city=\"paris\")"
      ],
      "metadata": {
        "colab": {
          "base_uri": "https://localhost:8080/"
        },
        "id": "VhzolHKjjTHI",
        "outputId": "cbfd6157-7699-4bc7-a72d-566e1feeeb15"
      },
      "execution_count": null,
      "outputs": [
        {
          "output_type": "stream",
          "name": "stdout",
          "text": [
            "name: Ramesh\n",
            "age: 25\n",
            "city: paris\n"
          ]
        }
      ]
    },
    {
      "cell_type": "markdown",
      "source": [
        "**Return Statement**"
      ],
      "metadata": {
        "id": "LU1j4PvBnytV"
      }
    },
    {
      "cell_type": "code",
      "source": [
        "def square(num):\n",
        "  return num*num\n",
        "square(5)"
      ],
      "metadata": {
        "colab": {
          "base_uri": "https://localhost:8080/"
        },
        "id": "vVDIvo8an2_F",
        "outputId": "c9b4f223-5a65-47d1-e0aa-5aff69977305"
      },
      "execution_count": null,
      "outputs": [
        {
          "output_type": "execute_result",
          "data": {
            "text/plain": [
              "25"
            ]
          },
          "metadata": {},
          "execution_count": 38
        }
      ]
    },
    {
      "cell_type": "code",
      "source": [
        "result=square(5)\n",
        "print(\"square is:\", result)\n"
      ],
      "metadata": {
        "colab": {
          "base_uri": "https://localhost:8080/"
        },
        "id": "JvNYCRBgp4Dn",
        "outputId": "6b3e860f-dae9-4692-c7bd-b897f655dda1"
      },
      "execution_count": null,
      "outputs": [
        {
          "output_type": "stream",
          "name": "stdout",
          "text": [
            "square is: 25\n"
          ]
        }
      ]
    },
    {
      "cell_type": "markdown",
      "source": [
        "**Importing moduales**"
      ],
      "metadata": {
        "id": "01FpO7JEqXRQ"
      }
    },
    {
      "cell_type": "code",
      "source": [
        "import math\n",
        "print(math.sqrt(16))"
      ],
      "metadata": {
        "colab": {
          "base_uri": "https://localhost:8080/"
        },
        "id": "f0N6cNk4qchc",
        "outputId": "de4c50d0-5f7f-43c4-c7ff-304df0702d88"
      },
      "execution_count": null,
      "outputs": [
        {
          "output_type": "stream",
          "name": "stdout",
          "text": [
            "4.0\n"
          ]
        }
      ]
    },
    {
      "cell_type": "code",
      "source": [
        "from math import pi, sin\n",
        "print(pi)\n",
        "print(sin(math.radians(55)))"
      ],
      "metadata": {
        "colab": {
          "base_uri": "https://localhost:8080/"
        },
        "id": "GafWc7WrrHfn",
        "outputId": "e463da91-edef-4569-8def-dc2da7034bc3"
      },
      "execution_count": null,
      "outputs": [
        {
          "output_type": "stream",
          "name": "stdout",
          "text": [
            "3.141592653589793\n",
            "0.8191520442889918\n"
          ]
        }
      ]
    },
    {
      "cell_type": "code",
      "source": [
        "def greet(name):\n",
        "  print(\"Hello,\"+name)\n",
        "\n",
        "def add(a,b):\n",
        "  return a+b\n",
        "\n",
        "import my_module\n",
        "\n",
        "my_module.greet(\"Alice\")\n",
        "print(my_module.add(5,3))\n"
      ],
      "metadata": {
        "colab": {
          "base_uri": "https://localhost:8080/"
        },
        "id": "GMlmKmiAt-Gn",
        "outputId": "68557e64-30a6-48aa-9b9c-9a433149a261"
      },
      "execution_count": null,
      "outputs": [
        {
          "output_type": "stream",
          "name": "stdout",
          "text": [
            "Hello,Alice\n",
            "8\n",
            "Hello,Alice\n",
            "8\n"
          ]
        }
      ]
    },
    {
      "cell_type": "code",
      "source": [
        "print(\"Hello world\")"
      ],
      "metadata": {
        "colab": {
          "base_uri": "https://localhost:8080/"
        },
        "id": "VDZqwgv9ymgd",
        "outputId": "f5392547-2ffd-4025-9478-c5155ed8f70c"
      },
      "execution_count": null,
      "outputs": [
        {
          "output_type": "stream",
          "name": "stdout",
          "text": [
            "Hello world\n"
          ]
        }
      ]
    },
    {
      "cell_type": "code",
      "source": [
        "def is_prime(n):\n",
        "  if n <= 1:\n",
        "     return False\n",
        "  for i in range(2, int(n ** 0.5) + 1):\n",
        "      if n % i == 0:\n",
        "         return false\n",
        "         return True\n",
        "\n",
        "number = int(input(\"Enter a number:\"))\n",
        "if is_prime(number):\n",
        "        print(f\"{number} is prime.\")\n",
        "else:\n",
        "        print(f\" {number} is not prime.\")\n",
        "\n",
        "\n",
        "\n"
      ],
      "metadata": {
        "colab": {
          "base_uri": "https://localhost:8080/"
        },
        "id": "NO86MGk7GlsJ",
        "outputId": "1bc16769-e05d-49e7-837a-9ca2fc3c25a9"
      },
      "execution_count": 67,
      "outputs": [
        {
          "output_type": "stream",
          "name": "stdout",
          "text": [
            "Enter a number:7\n",
            " 7 is not prime.\n"
          ]
        }
      ]
    },
    {
      "cell_type": "markdown",
      "source": [
        "**Create a fuction to generate fibonacci sequence**\n",
        "\n",
        "*   List item\n",
        "*   List item\n",
        "\n"
      ],
      "metadata": {
        "id": "e-SqwiEgNqLX"
      }
    },
    {
      "cell_type": "code",
      "source": [
        "def fibonacci(n):\n",
        "  sequence=[]\n",
        "  a,b=0,1\n",
        "  for i in range(n):\n",
        "    sequence.append(a)\n",
        "    a,b=b,a+b\n",
        "  return sequence\n",
        "terms=int(input(\"Enter the number of terms: \"))\n",
        "print(\"fibonacci sequence: \",fibonacci(terms))"
      ],
      "metadata": {
        "colab": {
          "base_uri": "https://localhost:8080/"
        },
        "id": "pdjDbKm_MbLC",
        "outputId": "5d3868ce-8558-45ec-9c1f-dcc2e01b5aad"
      },
      "execution_count": 80,
      "outputs": [
        {
          "output_type": "stream",
          "name": "stdout",
          "text": [
            "Enter the number of terms: 8\n",
            "fibonacci sequence:  [0, 1, 1, 2, 3, 5, 8, 13]\n"
          ]
        }
      ]
    },
    {
      "cell_type": "code",
      "source": [
        "import math\n",
        "\n",
        "angle=float(input(\"Enter an angle in degrees:\"))\n",
        "radian = math.radians(angle)\n",
        "print(\"Sine of angle:\",math.sin(radian))\n",
        "print(\"Cosine of angle:\",math.cos(radian))"
      ],
      "metadata": {
        "colab": {
          "base_uri": "https://localhost:8080/"
        },
        "id": "AUEAY_CPQPAw",
        "outputId": "3279a461-582c-44a9-f598-3bb20bfaeec0"
      },
      "execution_count": 94,
      "outputs": [
        {
          "output_type": "stream",
          "name": "stdout",
          "text": [
            "Enter an angle in degrees:45\n",
            "Sine of angle: 0.7071067811865475\n",
            "Cosine of angle: 0.7071067811865476\n"
          ]
        }
      ]
    },
    {
      "cell_type": "markdown",
      "source": [
        "**Factorial using recursion**"
      ],
      "metadata": {
        "id": "P28pMfjST5-y"
      }
    },
    {
      "cell_type": "code",
      "source": [
        "def factorial(n):\n",
        "  if n==0:\n",
        "    return 1\n",
        "\n",
        "  else:\n",
        "      return n*factorial(n-1)\n",
        "\n",
        "num=int(input(\"Enter a number:\"))\n",
        "print(\"Factorial:\",factorial(num))"
      ],
      "metadata": {
        "colab": {
          "base_uri": "https://localhost:8080/"
        },
        "id": "RmqiXTu1TSxZ",
        "outputId": "8de785e2-b0cc-4c83-d001-a8fa2cb5d7db"
      },
      "execution_count": 96,
      "outputs": [
        {
          "output_type": "stream",
          "name": "stdout",
          "text": [
            "Enter a number:5\n",
            "Factorial: 120\n"
          ]
        }
      ]
    },
    {
      "cell_type": "markdown",
      "source": [
        "**Fibonacci series using functions**"
      ],
      "metadata": {
        "id": "6zganYt7Uy1f"
      }
    },
    {
      "cell_type": "code",
      "source": [
        "def fibonacci(n):\n",
        "  a,b=0,1\n",
        "  for i in range(n):\n",
        "    print(a,end=\" \")\n",
        "    a,b=b,a+b\n",
        "count=int(input(\"Enter the number of terms:\"))\n",
        "fibonacci(count)"
      ],
      "metadata": {
        "colab": {
          "base_uri": "https://localhost:8080/"
        },
        "id": "hlwXop7wU69P",
        "outputId": "68e074d6-c28c-4584-c3ba-acab4a65ee84"
      },
      "execution_count": 107,
      "outputs": [
        {
          "output_type": "stream",
          "name": "stdout",
          "text": [
            "Enter the number of terms:9\n",
            "0 1 1 2 3 5 8 13 21 "
          ]
        }
      ]
    },
    {
      "cell_type": "markdown",
      "source": [
        "**Check if a number is prime**"
      ],
      "metadata": {
        "id": "NYUQtuM0WvTW"
      }
    },
    {
      "cell_type": "code",
      "source": [
        "def is_prime(n):\n",
        "  if n<=1:\n",
        "    return False\n",
        "    for i in range(2,int(n**0.5)+1):\n",
        "      if n % i==0:\n",
        "        return False\n",
        "        return True\n",
        "num=int(input(\"Enter a number:\"))\n",
        "if is_prime(number):\n",
        "   print(\"Prime number\")\n",
        "else:\n",
        "  print(\"Not a prime number\")\n"
      ],
      "metadata": {
        "colab": {
          "base_uri": "https://localhost:8080/"
        },
        "id": "7f8nYl0nW00o",
        "outputId": "5b6b79b4-7872-4d33-e6b6-3719434588b5"
      },
      "execution_count": 111,
      "outputs": [
        {
          "output_type": "stream",
          "name": "stdout",
          "text": [
            "Enter a number:6\n",
            "Not a prime number\n"
          ]
        }
      ]
    },
    {
      "cell_type": "markdown",
      "source": [
        "**Reverse a string using a function**"
      ],
      "metadata": {
        "id": "uXkTOuOuYv1y"
      }
    },
    {
      "cell_type": "code",
      "source": [
        "def reverse_string(s):\n",
        "  return s[::-1]\n",
        "\n",
        "text=input(\"Enter a string\")\n",
        "print(\"Reversed string:\",reverse_string(text))"
      ],
      "metadata": {
        "colab": {
          "base_uri": "https://localhost:8080/"
        },
        "id": "3k3nTUFeZuXP",
        "outputId": "d4d22b58-14b0-4181-f3b5-5d48f308918b"
      },
      "execution_count": 112,
      "outputs": [
        {
          "output_type": "stream",
          "name": "stdout",
          "text": [
            "Enter a string7\n",
            "Reversed string: 7\n"
          ]
        }
      ]
    },
    {
      "cell_type": "markdown",
      "source": [
        "**Find GCD of two numbers using a function**"
      ],
      "metadata": {
        "id": "ea28Mh2QbA7A"
      }
    },
    {
      "cell_type": "code",
      "source": [
        "from binascii import b2a_base64\n",
        "def gcd(a,b):\n",
        "  while b:\n",
        "    a,b=b,a%b\n",
        "\n",
        "num1=int(input(\"Enter first number:\"))\n",
        "num2=int(input(\"Enter second number:\"))\n",
        "print(\"GCD:\",gcd(num1,num2))\n"
      ],
      "metadata": {
        "colab": {
          "base_uri": "https://localhost:8080/"
        },
        "id": "WRTAAB08afIj",
        "outputId": "776dcd8b-4793-4dec-c7a4-7ff587804ea4"
      },
      "execution_count": 114,
      "outputs": [
        {
          "output_type": "stream",
          "name": "stdout",
          "text": [
            "Enter first number:56\n",
            "Enter second number:77\n",
            "GCD: None\n"
          ]
        }
      ]
    }
  ]
}