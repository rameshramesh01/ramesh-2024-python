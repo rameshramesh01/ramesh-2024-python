{
  "nbformat": 4,
  "nbformat_minor": 0,
  "metadata": {
    "colab": {
      "provenance": []
    },
    "kernelspec": {
      "name": "python3",
      "display_name": "Python 3"
    },
    "language_info": {
      "name": "python"
    }
  },
  "cells": [
    {
      "cell_type": "code",
      "execution_count": null,
      "metadata": {
        "id": "N_8leFg81gIc"
      },
      "outputs": [],
      "source": []
    },
    {
      "cell_type": "markdown",
      "source": [
        "**File Operations**"
      ],
      "metadata": {
        "id": "xkiXtCZpkCRG"
      }
    },
    {
      "cell_type": "code",
      "source": [
        "#Opening a file\n",
        "file=open(\"/content/drive/MyDrive/file/ggg.txt\",\"r\")"
      ],
      "metadata": {
        "id": "LcGe9qHMnx7f"
      },
      "execution_count": null,
      "outputs": []
    },
    {
      "cell_type": "code",
      "source": [
        "file=open(\"/content/drive/MyDrive/file/ggg.txt\",\"w\")\n",
        "print(file.write(\"I am not good!\\n\"))\n",
        "file.close()"
      ],
      "metadata": {
        "colab": {
          "base_uri": "https://localhost:8080/"
        },
        "id": "kii1MJmbujaN",
        "outputId": "8651b8e6-dc16-4c08-8344-de16a0c253b8"
      },
      "execution_count": null,
      "outputs": [
        {
          "output_type": "stream",
          "name": "stdout",
          "text": [
            "15\n"
          ]
        }
      ]
    },
    {
      "cell_type": "code",
      "source": [
        "#Reading a file\n",
        "file=open(\"/content/drive/MyDrive/file/ggg.txt\",\"r\")\n",
        "content=file.read()\n",
        "print(content)\n",
        "file.close()\n",
        "\n"
      ],
      "metadata": {
        "colab": {
          "base_uri": "https://localhost:8080/"
        },
        "id": "3bA5SEOAvFdU",
        "outputId": "3491a823-e55e-40b1-8c30-4da1f5a77709"
      },
      "execution_count": null,
      "outputs": [
        {
          "output_type": "stream",
          "name": "stdout",
          "text": [
            "I am not good!\n",
            "venketes\n",
            "i am from dharwad\n",
            "\n"
          ]
        }
      ]
    },
    {
      "cell_type": "code",
      "source": [
        "#Writing to a file\n",
        "file=open(\"/content/drive/MyDrive/file/ggg.txt\",\"w\")\n",
        "file.write(\"I am from dharwad\")\n",
        "file.close()\n"
      ],
      "metadata": {
        "id": "pXqjuQcQyNmV"
      },
      "execution_count": null,
      "outputs": []
    },
    {
      "cell_type": "code",
      "source": [
        "#File handling modes\n",
        "with open(\"/content/drive/MyDrive/file/ggg.txt\",\"rb\") as file:\n",
        "  data=file.read()\n"
      ],
      "metadata": {
        "id": "TAGU5Vws0Bhb"
      },
      "execution_count": null,
      "outputs": []
    }
  ]
}